{
 "cells": [
  {
   "cell_type": "markdown",
   "id": "13fea5431d6967b0",
   "metadata": {
    "collapsed": false,
    "jupyter": {
     "outputs_hidden": false
    }
   },
   "source": [
    "# Exploring AirBnB in Athens - Panagiotis-Alexios Spanakis Assignment 1"
   ]
  },
  {
   "cell_type": "markdown",
   "id": "e2e3784093511da3",
   "metadata": {
    "collapsed": false,
    "jupyter": {
     "outputs_hidden": false
    }
   },
   "source": [
    "### Before we start our analysis, we need to download (if we don't have them already) and import the libraries we will use in this notebook.\n",
    "\n",
    "We will use the following libraries:\n",
    "\n",
    "* `pandas` for data manipulation and analysis\n",
    "* `numpy` for mathematical operations\n",
    "* `matplotlib` and `seaborn` for data visualization\n",
    "* `folium` for creating interactive maps\n",
    "* `geopandas` for loading the GeoJSON file (for the map) which contains the boundaries of the neighbourhoods in Athens and creating the convex hull\n",
    "* `datetime` for working with dates\n",
    "\n",
    "Note: These libraries can be installed from the command line with the command `pip install <library_name>`."
   ]
  },
  {
   "cell_type": "code",
   "execution_count": 1,
   "id": "58b2c295dbf89150",
   "metadata": {
    "ExecuteTime": {
     "end_time": "2023-10-30T11:31:06.056597100Z",
     "start_time": "2023-10-30T11:31:05.558997100Z"
    },
    "collapsed": false,
    "jupyter": {
     "outputs_hidden": false
    }
   },
   "outputs": [],
   "source": [
    "import pandas as pd\n",
    "import numpy as np\n",
    "import matplotlib.pyplot as plt\n",
    "import seaborn as sns\n",
    "import folium\n",
    "# We need to import geopandas as well, as we will use it to load the GeoJSON file (for the map)\n",
    "import geopandas as gpd\n",
    "# Specifically we want to get today's date for the 8th objective, so we import the datetime module from the datetime library\n",
    "from datetime import datetime"
   ]
  },
  {
   "cell_type": "markdown",
   "id": "f60fb0722b111d30",
   "metadata": {
    "collapsed": false,
    "jupyter": {
     "outputs_hidden": false
    }
   },
   "source": [
    "### Then, we need to load the data we will use.\n",
    "\n",
    "As we will see, we will need only some of the columns from some files of the data, so we will load only those columns.\n",
    "\n",
    "We will use the following columns from the `listings.csv` file:\n",
    "\n",
    "* `id`: the id of the listing\n",
    "* `name`: the name of the listing\n",
    "* `host_id`: the id of the host\n",
    "* `host_name`: the name of the host\n",
    "* `neighbourhood_cleansed`: the neighbourhood of the listing in a more standardized format\n",
    "* `latitude`: the latitude of the listing\n",
    "* `longitude`: the longitude of the listing\n",
    "* `room_type`: the type of the room\n",
    "* `price`: the price of the listing\n",
    "* `number_of_reviews`: the number of reviews the listing has\n",
    "* `reviews_per_month`: the number of reviews per month the listing has\n",
    "\n",
    "We will use the following columns from the `calendar.csv` file:\n",
    "\n",
    "* `listing_id`: the id of the listing\n",
    "* `date`: the date\n",
    "* `available`: whether the listing is available or not\n",
    "* `price`: the price of the listing\n",
    "* `adjusted_price`: the adjusted price of the listing\n",
    "\n",
    "Lastly, we will use the `neighbourhoods.geojson` file to get the boundaries of the neighbourhoods in Athens."
   ]
  },
  {
   "cell_type": "code",
   "execution_count": 2,
   "id": "87adf610a6cb35e6",
   "metadata": {
    "ExecuteTime": {
     "end_time": "2023-10-30T11:31:07.626984700Z",
     "start_time": "2023-10-30T11:31:05.875083900Z"
    },
    "collapsed": false,
    "jupyter": {
     "outputs_hidden": false
    }
   },
   "outputs": [],
   "source": [
    "# Load the listings data and select the columns we will use\n",
    "listings = pd.read_csv('data/listings.csv')[['id', 'name', 'host_id', 'host_name',\n",
    "                                             'neighbourhood_cleansed', 'latitude', 'longitude', 'room_type', 'price',\n",
    "                                             'number_of_reviews', 'reviews_per_month'\n",
    "                                             ]]\n",
    "\n",
    "# Load the calendar data and select the columns we will use\n",
    "calendar = pd.read_csv('data/calendar.csv')[[\n",
    "    'listing_id', 'date', 'available', 'price', 'adjusted_price'\n",
    "]]\n",
    "\n",
    "# Load the neighbourhoods GeoJSON file\n",
    "neighbourhoods_gdf = gpd.read_file(\"data/neighbourhoods.geojson\")"
   ]
  },
  {
   "cell_type": "markdown",
   "id": "8619fb7d496ee29e",
   "metadata": {
    "collapsed": false,
    "jupyter": {
     "outputs_hidden": false
    }
   },
   "source": [
    "### Let's see how the listings data looks like."
   ]
  },
  {
   "cell_type": "code",
   "execution_count": 3,
   "id": "5c9f75288167b7c4",
   "metadata": {
    "ExecuteTime": {
     "end_time": "2023-10-30T11:31:07.641531900Z",
     "start_time": "2023-10-30T11:31:07.627986700Z"
    },
    "collapsed": false,
    "jupyter": {
     "outputs_hidden": false
    }
   },
   "outputs": [
    {
     "data": {
      "text/html": [
       "<div>\n",
       "<style scoped>\n",
       "    .dataframe tbody tr th:only-of-type {\n",
       "        vertical-align: middle;\n",
       "    }\n",
       "\n",
       "    .dataframe tbody tr th {\n",
       "        vertical-align: top;\n",
       "    }\n",
       "\n",
       "    .dataframe thead th {\n",
       "        text-align: right;\n",
       "    }\n",
       "</style>\n",
       "<table border=\"1\" class=\"dataframe\">\n",
       "  <thead>\n",
       "    <tr style=\"text-align: right;\">\n",
       "      <th></th>\n",
       "      <th>id</th>\n",
       "      <th>name</th>\n",
       "      <th>host_id</th>\n",
       "      <th>host_name</th>\n",
       "      <th>neighbourhood_cleansed</th>\n",
       "      <th>latitude</th>\n",
       "      <th>longitude</th>\n",
       "      <th>room_type</th>\n",
       "      <th>price</th>\n",
       "      <th>number_of_reviews</th>\n",
       "      <th>reviews_per_month</th>\n",
       "    </tr>\n",
       "  </thead>\n",
       "  <tbody>\n",
       "    <tr>\n",
       "      <th>0</th>\n",
       "      <td>10595</td>\n",
       "      <td>Condo in Athens · ★4.83 · 3 bedrooms · 5 beds ...</td>\n",
       "      <td>37177</td>\n",
       "      <td>Emmanouil</td>\n",
       "      <td>ΑΜΠΕΛΟΚΗΠΟΙ</td>\n",
       "      <td>37.98863</td>\n",
       "      <td>23.76527</td>\n",
       "      <td>Entire home/apt</td>\n",
       "      <td>$144.00</td>\n",
       "      <td>42</td>\n",
       "      <td>0.28</td>\n",
       "    </tr>\n",
       "    <tr>\n",
       "      <th>1</th>\n",
       "      <td>10990</td>\n",
       "      <td>Rental unit in Athens · ★4.80 · 1 bedroom · 1 ...</td>\n",
       "      <td>37177</td>\n",
       "      <td>Emmanouil</td>\n",
       "      <td>ΑΜΠΕΛΟΚΗΠΟΙ</td>\n",
       "      <td>37.98903</td>\n",
       "      <td>23.76448</td>\n",
       "      <td>Entire home/apt</td>\n",
       "      <td>$70.00</td>\n",
       "      <td>66</td>\n",
       "      <td>0.49</td>\n",
       "    </tr>\n",
       "    <tr>\n",
       "      <th>2</th>\n",
       "      <td>10993</td>\n",
       "      <td>Rental unit in Athens · ★4.84 · Studio · 2 bed...</td>\n",
       "      <td>37177</td>\n",
       "      <td>Emmanouil</td>\n",
       "      <td>ΑΜΠΕΛΟΚΗΠΟΙ</td>\n",
       "      <td>37.98888</td>\n",
       "      <td>23.76473</td>\n",
       "      <td>Entire home/apt</td>\n",
       "      <td>$85.00</td>\n",
       "      <td>92</td>\n",
       "      <td>0.69</td>\n",
       "    </tr>\n",
       "    <tr>\n",
       "      <th>3</th>\n",
       "      <td>10995</td>\n",
       "      <td>Rental unit in Athens · ★4.80 · 1 bedroom · 2 ...</td>\n",
       "      <td>37177</td>\n",
       "      <td>Emmanouil</td>\n",
       "      <td>ΑΜΠΕΛΟΚΗΠΟΙ</td>\n",
       "      <td>37.98903</td>\n",
       "      <td>23.76448</td>\n",
       "      <td>Entire home/apt</td>\n",
       "      <td>$60.00</td>\n",
       "      <td>30</td>\n",
       "      <td>0.19</td>\n",
       "    </tr>\n",
       "    <tr>\n",
       "      <th>4</th>\n",
       "      <td>724485</td>\n",
       "      <td>Rental unit in Athens · ★4.80 · 1 bedroom · 1 ...</td>\n",
       "      <td>3745284</td>\n",
       "      <td>Elpidoforos</td>\n",
       "      <td>ΜΟΥΣΕΙΟ-ΕΞΑΡΧΕΙΑ-ΝΕΑΠΟΛΗ</td>\n",
       "      <td>37.98985</td>\n",
       "      <td>23.73779</td>\n",
       "      <td>Entire home/apt</td>\n",
       "      <td>$35.00</td>\n",
       "      <td>514</td>\n",
       "      <td>3.87</td>\n",
       "    </tr>\n",
       "  </tbody>\n",
       "</table>\n",
       "</div>"
      ],
      "text/plain": [
       "       id                                               name  host_id  \\\n",
       "0   10595  Condo in Athens · ★4.83 · 3 bedrooms · 5 beds ...    37177   \n",
       "1   10990  Rental unit in Athens · ★4.80 · 1 bedroom · 1 ...    37177   \n",
       "2   10993  Rental unit in Athens · ★4.84 · Studio · 2 bed...    37177   \n",
       "3   10995  Rental unit in Athens · ★4.80 · 1 bedroom · 2 ...    37177   \n",
       "4  724485  Rental unit in Athens · ★4.80 · 1 bedroom · 1 ...  3745284   \n",
       "\n",
       "     host_name    neighbourhood_cleansed  latitude  longitude  \\\n",
       "0    Emmanouil               ΑΜΠΕΛΟΚΗΠΟΙ  37.98863   23.76527   \n",
       "1    Emmanouil               ΑΜΠΕΛΟΚΗΠΟΙ  37.98903   23.76448   \n",
       "2    Emmanouil               ΑΜΠΕΛΟΚΗΠΟΙ  37.98888   23.76473   \n",
       "3    Emmanouil               ΑΜΠΕΛΟΚΗΠΟΙ  37.98903   23.76448   \n",
       "4  Elpidoforos  ΜΟΥΣΕΙΟ-ΕΞΑΡΧΕΙΑ-ΝΕΑΠΟΛΗ  37.98985   23.73779   \n",
       "\n",
       "         room_type    price  number_of_reviews  reviews_per_month  \n",
       "0  Entire home/apt  $144.00                 42               0.28  \n",
       "1  Entire home/apt   $70.00                 66               0.49  \n",
       "2  Entire home/apt   $85.00                 92               0.69  \n",
       "3  Entire home/apt   $60.00                 30               0.19  \n",
       "4  Entire home/apt   $35.00                514               3.87  "
      ]
     },
     "execution_count": 3,
     "metadata": {},
     "output_type": "execute_result"
    }
   ],
   "source": [
    "listings.head()"
   ]
  },
  {
   "cell_type": "markdown",
   "id": "372168c146a348e2",
   "metadata": {
    "collapsed": false,
    "jupyter": {
     "outputs_hidden": false
    }
   },
   "source": [
    "### We can see that the price column is not in the correct format. Let's fix that."
   ]
  },
  {
   "cell_type": "code",
   "execution_count": 4,
   "id": "836c8e5424afb4a4",
   "metadata": {
    "ExecuteTime": {
     "end_time": "2023-10-30T11:31:07.648338300Z",
     "start_time": "2023-10-30T11:31:07.637529500Z"
    },
    "collapsed": false,
    "jupyter": {
     "outputs_hidden": false
    }
   },
   "outputs": [],
   "source": [
    "# Convert the 'price' column to numerical format by removing the '$' sign and commas, and converting it to float\n",
    "listings['price'] = listings['price'].str.replace('$', '', regex=False).str.replace(',', '', regex=False).astype(float)"
   ]
  },
  {
   "cell_type": "markdown",
   "id": "860435e3e0ae2f42",
   "metadata": {
    "collapsed": false,
    "jupyter": {
     "outputs_hidden": false
    }
   },
   "source": [
    "### Now let's see how the listings data looks like after the price column has been fixed."
   ]
  },
  {
   "cell_type": "code",
   "execution_count": 5,
   "id": "f766bfa94fef5f8e",
   "metadata": {
    "ExecuteTime": {
     "end_time": "2023-10-30T11:31:07.648338300Z",
     "start_time": "2023-10-30T11:31:07.645531200Z"
    },
    "collapsed": false,
    "jupyter": {
     "outputs_hidden": false
    }
   },
   "outputs": [
    {
     "data": {
      "text/plain": [
       "0    144.0\n",
       "1     70.0\n",
       "2     85.0\n",
       "3     60.0\n",
       "4     35.0\n",
       "Name: price, dtype: float64"
      ]
     },
     "execution_count": 5,
     "metadata": {},
     "output_type": "execute_result"
    }
   ],
   "source": [
    "listings['price'].head()"
   ]
  },
  {
   "cell_type": "markdown",
   "id": "3e7c5534ad278408",
   "metadata": {
    "collapsed": false,
    "jupyter": {
     "outputs_hidden": false
    }
   },
   "source": [
    "### Now let's see how the calendar data looks like."
   ]
  },
  {
   "cell_type": "code",
   "execution_count": 6,
   "id": "759a046e6c462420",
   "metadata": {
    "ExecuteTime": {
     "end_time": "2023-10-30T11:31:07.657853400Z",
     "start_time": "2023-10-30T11:31:07.648338300Z"
    },
    "collapsed": false,
    "jupyter": {
     "outputs_hidden": false
    }
   },
   "outputs": [
    {
     "data": {
      "text/html": [
       "<div>\n",
       "<style scoped>\n",
       "    .dataframe tbody tr th:only-of-type {\n",
       "        vertical-align: middle;\n",
       "    }\n",
       "\n",
       "    .dataframe tbody tr th {\n",
       "        vertical-align: top;\n",
       "    }\n",
       "\n",
       "    .dataframe thead th {\n",
       "        text-align: right;\n",
       "    }\n",
       "</style>\n",
       "<table border=\"1\" class=\"dataframe\">\n",
       "  <thead>\n",
       "    <tr style=\"text-align: right;\">\n",
       "      <th></th>\n",
       "      <th>listing_id</th>\n",
       "      <th>date</th>\n",
       "      <th>available</th>\n",
       "      <th>price</th>\n",
       "      <th>adjusted_price</th>\n",
       "    </tr>\n",
       "  </thead>\n",
       "  <tbody>\n",
       "    <tr>\n",
       "      <th>0</th>\n",
       "      <td>10595</td>\n",
       "      <td>2023-09-21</td>\n",
       "      <td>f</td>\n",
       "      <td>$150.00</td>\n",
       "      <td>$60.00</td>\n",
       "    </tr>\n",
       "    <tr>\n",
       "      <th>1</th>\n",
       "      <td>10595</td>\n",
       "      <td>2023-09-22</td>\n",
       "      <td>t</td>\n",
       "      <td>$150.00</td>\n",
       "      <td>$60.00</td>\n",
       "    </tr>\n",
       "    <tr>\n",
       "      <th>2</th>\n",
       "      <td>10595</td>\n",
       "      <td>2023-09-23</td>\n",
       "      <td>t</td>\n",
       "      <td>$150.00</td>\n",
       "      <td>$75.00</td>\n",
       "    </tr>\n",
       "    <tr>\n",
       "      <th>3</th>\n",
       "      <td>10595</td>\n",
       "      <td>2023-09-24</td>\n",
       "      <td>t</td>\n",
       "      <td>$150.00</td>\n",
       "      <td>$90.00</td>\n",
       "    </tr>\n",
       "    <tr>\n",
       "      <th>4</th>\n",
       "      <td>10595</td>\n",
       "      <td>2023-09-25</td>\n",
       "      <td>f</td>\n",
       "      <td>$300.00</td>\n",
       "      <td>$210.00</td>\n",
       "    </tr>\n",
       "  </tbody>\n",
       "</table>\n",
       "</div>"
      ],
      "text/plain": [
       "   listing_id        date available    price adjusted_price\n",
       "0       10595  2023-09-21         f  $150.00         $60.00\n",
       "1       10595  2023-09-22         t  $150.00         $60.00\n",
       "2       10595  2023-09-23         t  $150.00         $75.00\n",
       "3       10595  2023-09-24         t  $150.00         $90.00\n",
       "4       10595  2023-09-25         f  $300.00        $210.00"
      ]
     },
     "execution_count": 6,
     "metadata": {},
     "output_type": "execute_result"
    }
   ],
   "source": [
    "calendar.head()"
   ]
  },
  {
   "cell_type": "markdown",
   "id": "1e90deccb5c57800",
   "metadata": {
    "collapsed": false,
    "jupyter": {
     "outputs_hidden": false
    }
   },
   "source": [
    "### The date column is not by default in the correct format. Let's fix that."
   ]
  },
  {
   "cell_type": "code",
   "execution_count": 7,
   "id": "572586acfae96cc1",
   "metadata": {
    "ExecuteTime": {
     "end_time": "2023-10-30T11:31:08.977874700Z",
     "start_time": "2023-10-30T11:31:07.654854Z"
    },
    "collapsed": false,
    "jupyter": {
     "outputs_hidden": false
    }
   },
   "outputs": [],
   "source": [
    "# Convert the date column to datetime format\n",
    "calendar['date'] = pd.to_datetime(calendar['date'])"
   ]
  },
  {
   "cell_type": "markdown",
   "id": "e65e605a78cebcfb",
   "metadata": {
    "collapsed": false,
    "jupyter": {
     "outputs_hidden": false
    }
   },
   "source": [
    "### We can also observe that the price columns are not in the correct format. Let's fix that."
   ]
  },
  {
   "cell_type": "code",
   "execution_count": 8,
   "id": "950417515f6375ef",
   "metadata": {
    "ExecuteTime": {
     "end_time": "2023-10-30T11:31:12.063874Z",
     "start_time": "2023-10-30T11:31:08.978874600Z"
    },
    "collapsed": false,
    "jupyter": {
     "outputs_hidden": false
    }
   },
   "outputs": [],
   "source": [
    "# Remove the $ sign and commas from the price columns and convert them to float\n",
    "calendar['price'] = calendar['price'].str.replace('$', '').str.replace(',', '').astype(float)\n",
    "calendar['adjusted_price'] = calendar['adjusted_price'].str.replace('$', '').str.replace(',', '').astype(float)"
   ]
  },
  {
   "cell_type": "markdown",
   "id": "d072bd5f8ccc3f6f",
   "metadata": {
    "collapsed": false,
    "jupyter": {
     "outputs_hidden": false
    }
   },
   "source": [
    "### Now that we have all the data we need in the correct format, we can start our analysis.\n",
    "\n",
    "**Note** : The numeric results are rounded to 3 decimal places for better readability.\n",
    "\n",
    "\n",
    "---"
   ]
  },
  {
   "cell_type": "markdown",
   "id": "e9ee5d87f374eee4",
   "metadata": {
    "collapsed": false,
    "jupyter": {
     "outputs_hidden": false
    }
   },
   "source": [
    "## (1) Neighbourhood Listings in Descending Order\n",
    "\n",
    "In order to find the most popular neighbourhoods in Athens, we will use the `neighbourhood_cleansed` column as it has the neighbourhoods in a more standardized format. \n",
    "We will group the listings by neighbourhood and count the number of listings in each neighbourhood. We will then sort the neighbourhoods in descending order."
   ]
  },
  {
   "cell_type": "code",
   "execution_count": 9,
   "id": "f1fe63cc3d6e35f6",
   "metadata": {
    "ExecuteTime": {
     "end_time": "2023-10-30T11:31:12.070447800Z",
     "start_time": "2023-10-30T11:31:12.064874100Z"
    },
    "collapsed": false,
    "jupyter": {
     "outputs_hidden": false
    }
   },
   "outputs": [
    {
     "data": {
      "text/plain": [
       "neighbourhood_cleansed\n",
       "ΕΜΠΟΡΙΚΟ ΤΡΙΓΩΝΟ-ΠΛΑΚΑ              2416\n",
       "ΚΟΥΚΑΚΙ-ΜΑΚΡΥΓΙΑΝΝΗ                 1122\n",
       "ΝΕΟΣ ΚΟΣΜΟΣ                          980\n",
       "ΜΟΥΣΕΙΟ-ΕΞΑΡΧΕΙΑ-ΝΕΑΠΟΛΗ             979\n",
       "ΑΓΙΟΣ ΚΩΝΣΤΑΝΤΙΝΟΣ-ΠΛΑΤΕΙΑ ΒΑΘΗΣ     817\n",
       "ΠΛΑΤΕΙΑ ΑΤΤΙΚΗΣ                      583\n",
       "ΠΑΓΚΡΑΤΙ                             511\n",
       "ΑΜΠΕΛΟΚΗΠΟΙ                          452\n",
       "ΚΟΛΩΝΑΚΙ                             425\n",
       "ΘΗΣΕΙΟ                               386\n",
       "ΑΚΡΟΠΟΛΗ                             386\n",
       "ΠΕΤΡΑΛΩΝΑ                            352\n",
       "ΚΕΡΑΜΕΙΚΟΣ                           343\n",
       "ΚΥΨΕΛΗ                               271\n",
       "ΣΤΑΔΙΟ                               252\n",
       "ΓΟΥΔΙ                                230\n",
       "ΙΛΙΣΙΑ                               216\n",
       "ΠΛΑΤΕΙΑ ΑΜΕΡΙΚΗΣ                     180\n",
       "ΝΙΡΒΑΝΑ                              174\n",
       "ΠΑΤΗΣΙΑ                              166\n",
       "ΛΥΚΑΒΗΤΤΟΣ                           162\n",
       "ΖΑΠΠΕΙΟ                              161\n",
       "ΑΝΩ ΚΥΨΕΛΗ                           119\n",
       "ΓΚΥΖΗ                                118\n",
       "ΠΕΔΙΟ ΑΡΕΩΣ                          109\n",
       "ΚΟΛΩΝΟΣ                              108\n",
       "ΓΚΑΖΙ                                106\n",
       "ΑΓΙΟΣ ΝΙΚΟΛΑΟΣ                        99\n",
       "ΣΤΑΘΜΟΣ ΛΑΡΙΣΗΣ                       85\n",
       "ΒΟΤΑΝΙΚΟΣ                             80\n",
       "ΑΚΑΔΗΜΙΑ ΠΛΑΤΩΝΟΣ                     76\n",
       "ΓΟΥΒΑ                                 75\n",
       "ΕΛΛΗΝΟΡΩΣΩΝ                           73\n",
       "ΑΝΩ ΠΑΤΗΣΙΑ                           64\n",
       "ΝΕΑ ΚΥΨΕΛΗ                            64\n",
       "1Ο ΝΕΚΡΟΤΑΦΕΙΟ                        55\n",
       "ΣΕΠΟΛΙΑ                               45\n",
       "ΑΓΙΟΣ ΕΛΕΥΘΕΡΙΟΣ                      38\n",
       "ΠΟΛΥΓΩΝΟ                              29\n",
       "ΚΟΛΟΚΥΝΘΟΥ                            16\n",
       "ΡΙΖΟΥΠΟΛΗ                             13\n",
       "ΠΡΟΜΠΟΝΑ                              12\n",
       "ΡΗΓΙΛΛΗΣ                               5\n",
       "ΠΕΝΤΑΓΩΝΟ                              2\n",
       "Name: count, dtype: int64"
      ]
     },
     "execution_count": 9,
     "metadata": {},
     "output_type": "execute_result"
    }
   ],
   "source": [
    "# Count the number of listings per neighbourhood\n",
    "neighbourhood_counts = listings['neighbourhood_cleansed'].value_counts() # The value_counts() method sorts the values in descending order by default\n",
    "\n",
    "# Display the sorted neighbourhood counts, since the neighbourhoods are already sorted in descending order\n",
    "neighbourhood_counts"
   ]
  },
  {
   "cell_type": "markdown",
   "id": "c07c5761f88a50a8",
   "metadata": {
    "collapsed": false,
    "jupyter": {
     "outputs_hidden": false
    }
   },
   "source": [
    "## (2) Neighbourhood Prices in Descending Order\n",
    "\n",
    "We want a table with the prices per neighbourhood. The prices information will contain:\n",
    "\n",
    "* median price per neighbourhood\n",
    "\n",
    "* mean price per neighbourhood\n",
    "\n",
    "* standard deviation per neighbourhood\n",
    "\n",
    "* number of listings per neighbourhood.\n",
    "\n",
    "The contents of the table should be in descending median prices.\n",
    "\n",
    "In order to find the most expensive neighbourhoods in Athens, we will use the `neighbourhood_cleansed` column again"
   ]
  },
  {
   "cell_type": "code",
   "execution_count": 10,
   "id": "eec66edb5da431ee",
   "metadata": {
    "ExecuteTime": {
     "end_time": "2023-10-30T11:31:12.145401900Z",
     "start_time": "2023-10-30T11:31:12.069447900Z"
    },
    "collapsed": false,
    "jupyter": {
     "outputs_hidden": false
    }
   },
   "outputs": [
    {
     "data": {
      "text/html": [
       "<div>\n",
       "<style scoped>\n",
       "    .dataframe tbody tr th:only-of-type {\n",
       "        vertical-align: middle;\n",
       "    }\n",
       "\n",
       "    .dataframe tbody tr th {\n",
       "        vertical-align: top;\n",
       "    }\n",
       "\n",
       "    .dataframe thead th {\n",
       "        text-align: right;\n",
       "    }\n",
       "</style>\n",
       "<table border=\"1\" class=\"dataframe\">\n",
       "  <thead>\n",
       "    <tr style=\"text-align: right;\">\n",
       "      <th></th>\n",
       "      <th>median_price</th>\n",
       "      <th>mean_price</th>\n",
       "      <th>std_dev</th>\n",
       "      <th>num_listings</th>\n",
       "    </tr>\n",
       "    <tr>\n",
       "      <th>neighbourhood_cleansed</th>\n",
       "      <th></th>\n",
       "      <th></th>\n",
       "      <th></th>\n",
       "      <th></th>\n",
       "    </tr>\n",
       "  </thead>\n",
       "  <tbody>\n",
       "    <tr>\n",
       "      <th>ΡΗΓΙΛΛΗΣ</th>\n",
       "      <td>120.0</td>\n",
       "      <td>367.800</td>\n",
       "      <td>578.623</td>\n",
       "      <td>5</td>\n",
       "    </tr>\n",
       "    <tr>\n",
       "      <th>ΖΑΠΠΕΙΟ</th>\n",
       "      <td>114.0</td>\n",
       "      <td>224.068</td>\n",
       "      <td>641.163</td>\n",
       "      <td>161</td>\n",
       "    </tr>\n",
       "    <tr>\n",
       "      <th>ΕΜΠΟΡΙΚΟ ΤΡΙΓΩΝΟ-ΠΛΑΚΑ</th>\n",
       "      <td>104.0</td>\n",
       "      <td>140.651</td>\n",
       "      <td>229.183</td>\n",
       "      <td>2416</td>\n",
       "    </tr>\n",
       "    <tr>\n",
       "      <th>ΑΚΡΟΠΟΛΗ</th>\n",
       "      <td>100.0</td>\n",
       "      <td>195.345</td>\n",
       "      <td>703.322</td>\n",
       "      <td>386</td>\n",
       "    </tr>\n",
       "    <tr>\n",
       "      <th>ΚΟΛΩΝΑΚΙ</th>\n",
       "      <td>100.0</td>\n",
       "      <td>128.595</td>\n",
       "      <td>104.431</td>\n",
       "      <td>425</td>\n",
       "    </tr>\n",
       "    <tr>\n",
       "      <th>ΚΟΥΚΑΚΙ-ΜΑΚΡΥΓΙΑΝΝΗ</th>\n",
       "      <td>90.5</td>\n",
       "      <td>120.284</td>\n",
       "      <td>104.614</td>\n",
       "      <td>1122</td>\n",
       "    </tr>\n",
       "    <tr>\n",
       "      <th>ΘΗΣΕΙΟ</th>\n",
       "      <td>90.0</td>\n",
       "      <td>126.492</td>\n",
       "      <td>124.177</td>\n",
       "      <td>386</td>\n",
       "    </tr>\n",
       "    <tr>\n",
       "      <th>ΚΕΡΑΜΕΙΚΟΣ</th>\n",
       "      <td>89.0</td>\n",
       "      <td>123.883</td>\n",
       "      <td>136.367</td>\n",
       "      <td>343</td>\n",
       "    </tr>\n",
       "    <tr>\n",
       "      <th>ΛΥΚΑΒΗΤΤΟΣ</th>\n",
       "      <td>75.0</td>\n",
       "      <td>104.562</td>\n",
       "      <td>87.860</td>\n",
       "      <td>162</td>\n",
       "    </tr>\n",
       "    <tr>\n",
       "      <th>ΓΚΑΖΙ</th>\n",
       "      <td>70.5</td>\n",
       "      <td>95.792</td>\n",
       "      <td>75.356</td>\n",
       "      <td>106</td>\n",
       "    </tr>\n",
       "    <tr>\n",
       "      <th>ΣΤΑΔΙΟ</th>\n",
       "      <td>70.0</td>\n",
       "      <td>121.516</td>\n",
       "      <td>509.992</td>\n",
       "      <td>252</td>\n",
       "    </tr>\n",
       "    <tr>\n",
       "      <th>ΙΛΙΣΙΑ</th>\n",
       "      <td>70.0</td>\n",
       "      <td>87.190</td>\n",
       "      <td>53.519</td>\n",
       "      <td>216</td>\n",
       "    </tr>\n",
       "    <tr>\n",
       "      <th>ΜΟΥΣΕΙΟ-ΕΞΑΡΧΕΙΑ-ΝΕΑΠΟΛΗ</th>\n",
       "      <td>67.0</td>\n",
       "      <td>169.259</td>\n",
       "      <td>2563.622</td>\n",
       "      <td>979</td>\n",
       "    </tr>\n",
       "    <tr>\n",
       "      <th>ΝΕΟΣ ΚΟΣΜΟΣ</th>\n",
       "      <td>67.0</td>\n",
       "      <td>94.587</td>\n",
       "      <td>127.407</td>\n",
       "      <td>980</td>\n",
       "    </tr>\n",
       "    <tr>\n",
       "      <th>ΠΑΓΚΡΑΤΙ</th>\n",
       "      <td>67.0</td>\n",
       "      <td>84.063</td>\n",
       "      <td>92.218</td>\n",
       "      <td>511</td>\n",
       "    </tr>\n",
       "    <tr>\n",
       "      <th>ΠΕΤΡΑΛΩΝΑ</th>\n",
       "      <td>66.5</td>\n",
       "      <td>104.702</td>\n",
       "      <td>285.519</td>\n",
       "      <td>352</td>\n",
       "    </tr>\n",
       "    <tr>\n",
       "      <th>1Ο ΝΕΚΡΟΤΑΦΕΙΟ</th>\n",
       "      <td>61.0</td>\n",
       "      <td>98.818</td>\n",
       "      <td>92.281</td>\n",
       "      <td>55</td>\n",
       "    </tr>\n",
       "    <tr>\n",
       "      <th>ΕΛΛΗΝΟΡΩΣΩΝ</th>\n",
       "      <td>60.0</td>\n",
       "      <td>81.589</td>\n",
       "      <td>72.727</td>\n",
       "      <td>73</td>\n",
       "    </tr>\n",
       "    <tr>\n",
       "      <th>ΒΟΤΑΝΙΚΟΣ</th>\n",
       "      <td>60.0</td>\n",
       "      <td>78.200</td>\n",
       "      <td>48.042</td>\n",
       "      <td>80</td>\n",
       "    </tr>\n",
       "    <tr>\n",
       "      <th>ΓΟΥΒΑ</th>\n",
       "      <td>58.0</td>\n",
       "      <td>72.240</td>\n",
       "      <td>83.506</td>\n",
       "      <td>75</td>\n",
       "    </tr>\n",
       "    <tr>\n",
       "      <th>ΑΜΠΕΛΟΚΗΠΟΙ</th>\n",
       "      <td>58.0</td>\n",
       "      <td>66.916</td>\n",
       "      <td>39.297</td>\n",
       "      <td>452</td>\n",
       "    </tr>\n",
       "    <tr>\n",
       "      <th>ΑΓΙΟΣ ΚΩΝΣΤΑΝΤΙΝΟΣ-ΠΛΑΤΕΙΑ ΒΑΘΗΣ</th>\n",
       "      <td>58.0</td>\n",
       "      <td>78.155</td>\n",
       "      <td>73.453</td>\n",
       "      <td>817</td>\n",
       "    </tr>\n",
       "    <tr>\n",
       "      <th>ΓΟΥΔΙ</th>\n",
       "      <td>58.0</td>\n",
       "      <td>68.952</td>\n",
       "      <td>37.040</td>\n",
       "      <td>230</td>\n",
       "    </tr>\n",
       "    <tr>\n",
       "      <th>ΠΡΟΜΠΟΝΑ</th>\n",
       "      <td>57.0</td>\n",
       "      <td>60.833</td>\n",
       "      <td>27.511</td>\n",
       "      <td>12</td>\n",
       "    </tr>\n",
       "    <tr>\n",
       "      <th>ΠΕΔΙΟ ΑΡΕΩΣ</th>\n",
       "      <td>56.0</td>\n",
       "      <td>148.138</td>\n",
       "      <td>761.698</td>\n",
       "      <td>109</td>\n",
       "    </tr>\n",
       "    <tr>\n",
       "      <th>ΣΕΠΟΛΙΑ</th>\n",
       "      <td>55.0</td>\n",
       "      <td>77.422</td>\n",
       "      <td>150.067</td>\n",
       "      <td>45</td>\n",
       "    </tr>\n",
       "    <tr>\n",
       "      <th>ΝΕΑ ΚΥΨΕΛΗ</th>\n",
       "      <td>50.0</td>\n",
       "      <td>56.453</td>\n",
       "      <td>28.872</td>\n",
       "      <td>64</td>\n",
       "    </tr>\n",
       "    <tr>\n",
       "      <th>ΣΤΑΘΜΟΣ ΛΑΡΙΣΗΣ</th>\n",
       "      <td>50.0</td>\n",
       "      <td>61.565</td>\n",
       "      <td>58.616</td>\n",
       "      <td>85</td>\n",
       "    </tr>\n",
       "    <tr>\n",
       "      <th>ΚΥΨΕΛΗ</th>\n",
       "      <td>50.0</td>\n",
       "      <td>62.657</td>\n",
       "      <td>58.885</td>\n",
       "      <td>271</td>\n",
       "    </tr>\n",
       "    <tr>\n",
       "      <th>ΑΚΑΔΗΜΙΑ ΠΛΑΤΩΝΟΣ</th>\n",
       "      <td>50.0</td>\n",
       "      <td>79.934</td>\n",
       "      <td>163.927</td>\n",
       "      <td>76</td>\n",
       "    </tr>\n",
       "    <tr>\n",
       "      <th>ΠΛΑΤΕΙΑ ΑΤΤΙΚΗΣ</th>\n",
       "      <td>48.0</td>\n",
       "      <td>64.117</td>\n",
       "      <td>74.498</td>\n",
       "      <td>583</td>\n",
       "    </tr>\n",
       "    <tr>\n",
       "      <th>ΑΝΩ ΠΑΤΗΣΙΑ</th>\n",
       "      <td>48.0</td>\n",
       "      <td>56.078</td>\n",
       "      <td>29.494</td>\n",
       "      <td>64</td>\n",
       "    </tr>\n",
       "    <tr>\n",
       "      <th>ΚΟΛΩΝΟΣ</th>\n",
       "      <td>47.0</td>\n",
       "      <td>51.889</td>\n",
       "      <td>21.264</td>\n",
       "      <td>108</td>\n",
       "    </tr>\n",
       "    <tr>\n",
       "      <th>ΠΕΝΤΑΓΩΝΟ</th>\n",
       "      <td>46.0</td>\n",
       "      <td>46.000</td>\n",
       "      <td>1.414</td>\n",
       "      <td>2</td>\n",
       "    </tr>\n",
       "    <tr>\n",
       "      <th>ΠΑΤΗΣΙΑ</th>\n",
       "      <td>45.0</td>\n",
       "      <td>60.524</td>\n",
       "      <td>117.601</td>\n",
       "      <td>166</td>\n",
       "    </tr>\n",
       "    <tr>\n",
       "      <th>ΠΟΛΥΓΩΝΟ</th>\n",
       "      <td>45.0</td>\n",
       "      <td>54.310</td>\n",
       "      <td>26.467</td>\n",
       "      <td>29</td>\n",
       "    </tr>\n",
       "    <tr>\n",
       "      <th>ΑΓΙΟΣ ΝΙΚΟΛΑΟΣ</th>\n",
       "      <td>45.0</td>\n",
       "      <td>53.202</td>\n",
       "      <td>32.861</td>\n",
       "      <td>99</td>\n",
       "    </tr>\n",
       "    <tr>\n",
       "      <th>ΓΚΥΖΗ</th>\n",
       "      <td>44.5</td>\n",
       "      <td>52.034</td>\n",
       "      <td>42.302</td>\n",
       "      <td>118</td>\n",
       "    </tr>\n",
       "    <tr>\n",
       "      <th>ΠΛΑΤΕΙΑ ΑΜΕΡΙΚΗΣ</th>\n",
       "      <td>44.0</td>\n",
       "      <td>52.500</td>\n",
       "      <td>37.480</td>\n",
       "      <td>180</td>\n",
       "    </tr>\n",
       "    <tr>\n",
       "      <th>ΡΙΖΟΥΠΟΛΗ</th>\n",
       "      <td>44.0</td>\n",
       "      <td>52.538</td>\n",
       "      <td>22.097</td>\n",
       "      <td>13</td>\n",
       "    </tr>\n",
       "    <tr>\n",
       "      <th>ΚΟΛΟΚΥΝΘΟΥ</th>\n",
       "      <td>43.0</td>\n",
       "      <td>43.938</td>\n",
       "      <td>9.532</td>\n",
       "      <td>16</td>\n",
       "    </tr>\n",
       "    <tr>\n",
       "      <th>ΝΙΡΒΑΝΑ</th>\n",
       "      <td>42.0</td>\n",
       "      <td>53.046</td>\n",
       "      <td>39.449</td>\n",
       "      <td>174</td>\n",
       "    </tr>\n",
       "    <tr>\n",
       "      <th>ΑΝΩ ΚΥΨΕΛΗ</th>\n",
       "      <td>42.0</td>\n",
       "      <td>45.933</td>\n",
       "      <td>23.316</td>\n",
       "      <td>119</td>\n",
       "    </tr>\n",
       "    <tr>\n",
       "      <th>ΑΓΙΟΣ ΕΛΕΥΘΕΡΙΟΣ</th>\n",
       "      <td>41.5</td>\n",
       "      <td>43.737</td>\n",
       "      <td>17.409</td>\n",
       "      <td>38</td>\n",
       "    </tr>\n",
       "  </tbody>\n",
       "</table>\n",
       "</div>"
      ],
      "text/plain": [
       "                                  median_price  mean_price   std_dev  \\\n",
       "neighbourhood_cleansed                                                 \n",
       "ΡΗΓΙΛΛΗΣ                                 120.0     367.800   578.623   \n",
       "ΖΑΠΠΕΙΟ                                  114.0     224.068   641.163   \n",
       "ΕΜΠΟΡΙΚΟ ΤΡΙΓΩΝΟ-ΠΛΑΚΑ                   104.0     140.651   229.183   \n",
       "ΑΚΡΟΠΟΛΗ                                 100.0     195.345   703.322   \n",
       "ΚΟΛΩΝΑΚΙ                                 100.0     128.595   104.431   \n",
       "ΚΟΥΚΑΚΙ-ΜΑΚΡΥΓΙΑΝΝΗ                       90.5     120.284   104.614   \n",
       "ΘΗΣΕΙΟ                                    90.0     126.492   124.177   \n",
       "ΚΕΡΑΜΕΙΚΟΣ                                89.0     123.883   136.367   \n",
       "ΛΥΚΑΒΗΤΤΟΣ                                75.0     104.562    87.860   \n",
       "ΓΚΑΖΙ                                     70.5      95.792    75.356   \n",
       "ΣΤΑΔΙΟ                                    70.0     121.516   509.992   \n",
       "ΙΛΙΣΙΑ                                    70.0      87.190    53.519   \n",
       "ΜΟΥΣΕΙΟ-ΕΞΑΡΧΕΙΑ-ΝΕΑΠΟΛΗ                  67.0     169.259  2563.622   \n",
       "ΝΕΟΣ ΚΟΣΜΟΣ                               67.0      94.587   127.407   \n",
       "ΠΑΓΚΡΑΤΙ                                  67.0      84.063    92.218   \n",
       "ΠΕΤΡΑΛΩΝΑ                                 66.5     104.702   285.519   \n",
       "1Ο ΝΕΚΡΟΤΑΦΕΙΟ                            61.0      98.818    92.281   \n",
       "ΕΛΛΗΝΟΡΩΣΩΝ                               60.0      81.589    72.727   \n",
       "ΒΟΤΑΝΙΚΟΣ                                 60.0      78.200    48.042   \n",
       "ΓΟΥΒΑ                                     58.0      72.240    83.506   \n",
       "ΑΜΠΕΛΟΚΗΠΟΙ                               58.0      66.916    39.297   \n",
       "ΑΓΙΟΣ ΚΩΝΣΤΑΝΤΙΝΟΣ-ΠΛΑΤΕΙΑ ΒΑΘΗΣ          58.0      78.155    73.453   \n",
       "ΓΟΥΔΙ                                     58.0      68.952    37.040   \n",
       "ΠΡΟΜΠΟΝΑ                                  57.0      60.833    27.511   \n",
       "ΠΕΔΙΟ ΑΡΕΩΣ                               56.0     148.138   761.698   \n",
       "ΣΕΠΟΛΙΑ                                   55.0      77.422   150.067   \n",
       "ΝΕΑ ΚΥΨΕΛΗ                                50.0      56.453    28.872   \n",
       "ΣΤΑΘΜΟΣ ΛΑΡΙΣΗΣ                           50.0      61.565    58.616   \n",
       "ΚΥΨΕΛΗ                                    50.0      62.657    58.885   \n",
       "ΑΚΑΔΗΜΙΑ ΠΛΑΤΩΝΟΣ                         50.0      79.934   163.927   \n",
       "ΠΛΑΤΕΙΑ ΑΤΤΙΚΗΣ                           48.0      64.117    74.498   \n",
       "ΑΝΩ ΠΑΤΗΣΙΑ                               48.0      56.078    29.494   \n",
       "ΚΟΛΩΝΟΣ                                   47.0      51.889    21.264   \n",
       "ΠΕΝΤΑΓΩΝΟ                                 46.0      46.000     1.414   \n",
       "ΠΑΤΗΣΙΑ                                   45.0      60.524   117.601   \n",
       "ΠΟΛΥΓΩΝΟ                                  45.0      54.310    26.467   \n",
       "ΑΓΙΟΣ ΝΙΚΟΛΑΟΣ                            45.0      53.202    32.861   \n",
       "ΓΚΥΖΗ                                     44.5      52.034    42.302   \n",
       "ΠΛΑΤΕΙΑ ΑΜΕΡΙΚΗΣ                          44.0      52.500    37.480   \n",
       "ΡΙΖΟΥΠΟΛΗ                                 44.0      52.538    22.097   \n",
       "ΚΟΛΟΚΥΝΘΟΥ                                43.0      43.938     9.532   \n",
       "ΝΙΡΒΑΝΑ                                   42.0      53.046    39.449   \n",
       "ΑΝΩ ΚΥΨΕΛΗ                                42.0      45.933    23.316   \n",
       "ΑΓΙΟΣ ΕΛΕΥΘΕΡΙΟΣ                          41.5      43.737    17.409   \n",
       "\n",
       "                                  num_listings  \n",
       "neighbourhood_cleansed                          \n",
       "ΡΗΓΙΛΛΗΣ                                     5  \n",
       "ΖΑΠΠΕΙΟ                                    161  \n",
       "ΕΜΠΟΡΙΚΟ ΤΡΙΓΩΝΟ-ΠΛΑΚΑ                    2416  \n",
       "ΑΚΡΟΠΟΛΗ                                   386  \n",
       "ΚΟΛΩΝΑΚΙ                                   425  \n",
       "ΚΟΥΚΑΚΙ-ΜΑΚΡΥΓΙΑΝΝΗ                       1122  \n",
       "ΘΗΣΕΙΟ                                     386  \n",
       "ΚΕΡΑΜΕΙΚΟΣ                                 343  \n",
       "ΛΥΚΑΒΗΤΤΟΣ                                 162  \n",
       "ΓΚΑΖΙ                                      106  \n",
       "ΣΤΑΔΙΟ                                     252  \n",
       "ΙΛΙΣΙΑ                                     216  \n",
       "ΜΟΥΣΕΙΟ-ΕΞΑΡΧΕΙΑ-ΝΕΑΠΟΛΗ                   979  \n",
       "ΝΕΟΣ ΚΟΣΜΟΣ                                980  \n",
       "ΠΑΓΚΡΑΤΙ                                   511  \n",
       "ΠΕΤΡΑΛΩΝΑ                                  352  \n",
       "1Ο ΝΕΚΡΟΤΑΦΕΙΟ                              55  \n",
       "ΕΛΛΗΝΟΡΩΣΩΝ                                 73  \n",
       "ΒΟΤΑΝΙΚΟΣ                                   80  \n",
       "ΓΟΥΒΑ                                       75  \n",
       "ΑΜΠΕΛΟΚΗΠΟΙ                                452  \n",
       "ΑΓΙΟΣ ΚΩΝΣΤΑΝΤΙΝΟΣ-ΠΛΑΤΕΙΑ ΒΑΘΗΣ           817  \n",
       "ΓΟΥΔΙ                                      230  \n",
       "ΠΡΟΜΠΟΝΑ                                    12  \n",
       "ΠΕΔΙΟ ΑΡΕΩΣ                                109  \n",
       "ΣΕΠΟΛΙΑ                                     45  \n",
       "ΝΕΑ ΚΥΨΕΛΗ                                  64  \n",
       "ΣΤΑΘΜΟΣ ΛΑΡΙΣΗΣ                             85  \n",
       "ΚΥΨΕΛΗ                                     271  \n",
       "ΑΚΑΔΗΜΙΑ ΠΛΑΤΩΝΟΣ                           76  \n",
       "ΠΛΑΤΕΙΑ ΑΤΤΙΚΗΣ                            583  \n",
       "ΑΝΩ ΠΑΤΗΣΙΑ                                 64  \n",
       "ΚΟΛΩΝΟΣ                                    108  \n",
       "ΠΕΝΤΑΓΩΝΟ                                    2  \n",
       "ΠΑΤΗΣΙΑ                                    166  \n",
       "ΠΟΛΥΓΩΝΟ                                    29  \n",
       "ΑΓΙΟΣ ΝΙΚΟΛΑΟΣ                              99  \n",
       "ΓΚΥΖΗ                                      118  \n",
       "ΠΛΑΤΕΙΑ ΑΜΕΡΙΚΗΣ                           180  \n",
       "ΡΙΖΟΥΠΟΛΗ                                   13  \n",
       "ΚΟΛΟΚΥΝΘΟΥ                                  16  \n",
       "ΝΙΡΒΑΝΑ                                    174  \n",
       "ΑΝΩ ΚΥΨΕΛΗ                                 119  \n",
       "ΑΓΙΟΣ ΕΛΕΥΘΕΡΙΟΣ                            38  "
      ]
     },
     "execution_count": 10,
     "metadata": {},
     "output_type": "execute_result"
    }
   ],
   "source": [
    "# Group the data by 'neighbourhood' and calculate the required statistics and round them to 3 decimal places\n",
    "neighbourhood_price_stats = listings.groupby('neighbourhood_cleansed')['price'].agg(\n",
    "    median_price='median',\n",
    "    mean_price='mean',\n",
    "    std_dev='std',\n",
    "    num_listings='count'\n",
    ").round(3)\n",
    "\n",
    "# Sort the table by median price in descending order\n",
    "neighbourhood_stats_sorted = neighbourhood_price_stats.sort_values(by='median_price', ascending=False)\n",
    "\n",
    "# Display the sorted table\n",
    "neighbourhood_stats_sorted"
   ]
  },
  {
   "cell_type": "markdown",
   "id": "40a6780a51d01fa",
   "metadata": {
    "collapsed": false,
    "jupyter": {
     "outputs_hidden": false
    }
   },
   "source": [
    "## Important Observations on the Price Data\n",
    "\n",
    "---"
   ]
  },
  {
   "cell_type": "markdown",
   "id": "2bdd66ffb767627c",
   "metadata": {
    "collapsed": false,
    "jupyter": {
     "outputs_hidden": false
    }
   },
   "source": [
    "We can observe that the prices are highly skewed and this is obvious from the standard deviation values,\n",
    "which are very high, showing that the distribution is highly skewed, especially for the neighbourhood `ΜΟΥΣΕΙΟ-ΕΞΑΡΧΕΙΑ-ΝΕΑΠΟΛΗ` where the standard deviation is `2563.622`.\n",
    "\n",
    "Let's see some statistics for the prices, to better understand the distribution of the prices."
   ]
  },
  {
   "cell_type": "code",
   "execution_count": 11,
   "id": "52f1cdd056df0504",
   "metadata": {
    "ExecuteTime": {
     "end_time": "2023-10-30T11:31:12.145401900Z",
     "start_time": "2023-10-30T11:31:12.135697800Z"
    },
    "collapsed": false,
    "jupyter": {
     "outputs_hidden": false
    }
   },
   "outputs": [
    {
     "data": {
      "text/plain": [
       "count    12955.000\n",
       "mean       110.459\n",
       "std        738.186\n",
       "min         10.000\n",
       "25%         50.000\n",
       "50%         71.000\n",
       "75%        113.000\n",
       "max      80275.000\n",
       "Name: price, dtype: float64"
      ]
     },
     "execution_count": 11,
     "metadata": {},
     "output_type": "execute_result"
    }
   ],
   "source": [
    "# Display some statistics for the prices\n",
    "listings['price'].describe().round(3)"
   ]
  },
  {
   "cell_type": "code",
   "execution_count": 12,
   "id": "5c44f86b6df7f735",
   "metadata": {
    "ExecuteTime": {
     "end_time": "2023-10-30T11:31:12.146402100Z",
     "start_time": "2023-10-30T11:31:12.141868700Z"
    },
    "collapsed": false,
    "jupyter": {
     "outputs_hidden": false
    }
   },
   "outputs": [
    {
     "name": "stdout",
     "output_type": "stream",
     "text": [
      "Median Price: 71.000\n",
      "90th Percentile: 180.000\n"
     ]
    }
   ],
   "source": [
    "# Show also the median price and the 90th percentile\n",
    "print('Median Price: {:.3f}'.format(listings['price'].median()))\n",
    "print('90th Percentile: {:.3f}'.format(listings['price'].quantile(0.9)))"
   ]
  },
  {
   "cell_type": "markdown",
   "id": "c2d982cc318ef164",
   "metadata": {
    "collapsed": false,
    "jupyter": {
     "outputs_hidden": false
    }
   },
   "source": [
    "It is obvious that the distribution is highly skewed, with a few listings having a very high price and most listings having a low price (`<100`).\n",
    "Also,we can see that the standard deviation is `738.186`, which is a very high value, showing that the distribution is highly skewed.\n",
    "Also, the maximum price is `80275`, which is a very high value and far bigger than the median price (`71`).\n",
    "\n",
    "Now, let's see the distribution of the prices in a boxplot, to better visualize the distribution.\n",
    "The boxplot is a standardized way of displaying the distribution of data based on a five number summary (`minimum`, first quartile (`Q1`), median (`Q2`), third quartile (`Q3`), and `maximum`)."
   ]
  },
  {
   "cell_type": "code",
   "execution_count": 13,
   "id": "f504a5d10167058",
   "metadata": {
    "ExecuteTime": {
     "end_time": "2023-10-30T11:31:12.353997200Z",
     "start_time": "2023-10-30T11:31:12.145401900Z"
    },
    "collapsed": false,
    "jupyter": {
     "outputs_hidden": false
    }
   },
   "outputs": [
    {
     "data": {
      "text/plain": [
       "<Figure size 1000x600 with 0 Axes>"
      ]
     },
     "metadata": {},
     "output_type": "display_data"
    },
    {
     "data": {
      "image/png": "[encoded data removed]",
      "text/plain": [
       "<Figure size 1000x600 with 1 Axes>"
      ]
     },
     "metadata": {},
     "output_type": "display_data"
    }
   ],
   "source": [
    "# Create the boxplot of the prices\n",
    "plt.figure(figsize=(10, 6))\n",
    "# Display the boxplot \n",
    "plt.figure(figsize=(10, 6))\n",
    "plt.boxplot(listings['price'])\n",
    "plt.title('Boxplot of Prices')\n",
    "plt.ylabel('Price')\n",
    "plt.xticks([1], ['Listings'])\n",
    "plt.show()"
   ]
  },
  {
   "cell_type": "markdown",
   "id": "ff0e657b205d2c8c",
   "metadata": {
    "collapsed": false,
    "jupyter": {
     "outputs_hidden": false
    }
   },
   "source": [
    "We can see now that the distribution is highly skewed as we expected.\n",
    "Those listings that range from 2000 and above are probably luxury listings and therefore extreme outliers.\n",
    "\n",
    "To get such outliers, we will use the Z-score method. \n",
    "**More specifically**, the Z-score is a measure of how many standard deviations an individual data point is from the mean of a distribution.\n",
    "\n",
    "We will calculate the Z-score for each listing and if the absolute Z-score is greater than 3 \n",
    "(which means that the listing is 3 standard deviations away from the mean),\n",
    "we will consider the listing as an outlier, and we will remove it from the data."
   ]
  },
  {
   "cell_type": "code",
   "execution_count": 14,
   "id": "59f8b78c6a2ab4ed",
   "metadata": {
    "ExecuteTime": {
     "end_time": "2023-10-30T11:31:12.355998400Z",
     "start_time": "2023-10-30T11:31:12.233290700Z"
    },
    "collapsed": false,
    "jupyter": {
     "outputs_hidden": false
    }
   },
   "outputs": [
    {
     "data": {
      "text/html": [
       "<div>\n",
       "<style scoped>\n",
       "    .dataframe tbody tr th:only-of-type {\n",
       "        vertical-align: middle;\n",
       "    }\n",
       "\n",
       "    .dataframe tbody tr th {\n",
       "        vertical-align: top;\n",
       "    }\n",
       "\n",
       "    .dataframe thead th {\n",
       "        text-align: right;\n",
       "    }\n",
       "</style>\n",
       "<table border=\"1\" class=\"dataframe\">\n",
       "  <thead>\n",
       "    <tr style=\"text-align: right;\">\n",
       "      <th></th>\n",
       "      <th>id</th>\n",
       "      <th>name</th>\n",
       "      <th>host_id</th>\n",
       "      <th>host_name</th>\n",
       "      <th>neighbourhood_cleansed</th>\n",
       "      <th>latitude</th>\n",
       "      <th>longitude</th>\n",
       "      <th>room_type</th>\n",
       "      <th>price</th>\n",
       "      <th>number_of_reviews</th>\n",
       "      <th>reviews_per_month</th>\n",
       "    </tr>\n",
       "  </thead>\n",
       "  <tbody>\n",
       "    <tr>\n",
       "      <th>4894</th>\n",
       "      <td>39476638</td>\n",
       "      <td>Rental unit in Athina · 2 bedrooms · 2 beds · ...</td>\n",
       "      <td>260828371</td>\n",
       "      <td>Christos</td>\n",
       "      <td>ΚΕΡΑΜΕΙΚΟΣ</td>\n",
       "      <td>37.980860</td>\n",
       "      <td>23.715450</td>\n",
       "      <td>Entire home/apt</td>\n",
       "      <td>2000.0</td>\n",
       "      <td>0</td>\n",
       "      <td>NaN</td>\n",
       "    </tr>\n",
       "    <tr>\n",
       "      <th>5246</th>\n",
       "      <td>41556060</td>\n",
       "      <td>Condo in Athina · ★5.0 · 9 bedrooms · 9 beds ·...</td>\n",
       "      <td>248886067</td>\n",
       "      <td>Vasileios</td>\n",
       "      <td>ΕΜΠΟΡΙΚΟ ΤΡΙΓΩΝΟ-ΠΛΑΚΑ</td>\n",
       "      <td>37.975410</td>\n",
       "      <td>23.727620</td>\n",
       "      <td>Entire home/apt</td>\n",
       "      <td>1980.0</td>\n",
       "      <td>4</td>\n",
       "      <td>0.15</td>\n",
       "    </tr>\n",
       "    <tr>\n",
       "      <th>9967</th>\n",
       "      <td>807721368332995934</td>\n",
       "      <td>Hotel in Athina · 6 bedrooms · 13 beds · 6 baths</td>\n",
       "      <td>331327165</td>\n",
       "      <td>Markos</td>\n",
       "      <td>ΕΜΠΟΡΙΚΟ ΤΡΙΓΩΝΟ-ΠΛΑΚΑ</td>\n",
       "      <td>37.978827</td>\n",
       "      <td>23.729676</td>\n",
       "      <td>Private room</td>\n",
       "      <td>1702.0</td>\n",
       "      <td>0</td>\n",
       "      <td>NaN</td>\n",
       "    </tr>\n",
       "    <tr>\n",
       "      <th>2868</th>\n",
       "      <td>28042027</td>\n",
       "      <td>Aparthotel in Athens · ★5.0 · 6 bedrooms · 9 b...</td>\n",
       "      <td>206838334</td>\n",
       "      <td>Stratos</td>\n",
       "      <td>ΘΗΣΕΙΟ</td>\n",
       "      <td>37.978030</td>\n",
       "      <td>23.722840</td>\n",
       "      <td>Entire home/apt</td>\n",
       "      <td>1649.0</td>\n",
       "      <td>15</td>\n",
       "      <td>0.27</td>\n",
       "    </tr>\n",
       "    <tr>\n",
       "      <th>8595</th>\n",
       "      <td>672293681430475973</td>\n",
       "      <td>Condo in Athina · ★5.0 · 2 bedrooms · 3 beds ·...</td>\n",
       "      <td>469788883</td>\n",
       "      <td>Andreas</td>\n",
       "      <td>ΠΕΤΡΑΛΩΝΑ</td>\n",
       "      <td>37.971042</td>\n",
       "      <td>23.708681</td>\n",
       "      <td>Entire home/apt</td>\n",
       "      <td>1500.0</td>\n",
       "      <td>4</td>\n",
       "      <td>0.28</td>\n",
       "    </tr>\n",
       "  </tbody>\n",
       "</table>\n",
       "</div>"
      ],
      "text/plain": [
       "                      id                                               name  \\\n",
       "4894            39476638  Rental unit in Athina · 2 bedrooms · 2 beds · ...   \n",
       "5246            41556060  Condo in Athina · ★5.0 · 9 bedrooms · 9 beds ·...   \n",
       "9967  807721368332995934   Hotel in Athina · 6 bedrooms · 13 beds · 6 baths   \n",
       "2868            28042027  Aparthotel in Athens · ★5.0 · 6 bedrooms · 9 b...   \n",
       "8595  672293681430475973  Condo in Athina · ★5.0 · 2 bedrooms · 3 beds ·...   \n",
       "\n",
       "        host_id  host_name  neighbourhood_cleansed   latitude  longitude  \\\n",
       "4894  260828371   Christos              ΚΕΡΑΜΕΙΚΟΣ  37.980860  23.715450   \n",
       "5246  248886067  Vasileios  ΕΜΠΟΡΙΚΟ ΤΡΙΓΩΝΟ-ΠΛΑΚΑ  37.975410  23.727620   \n",
       "9967  331327165     Markos  ΕΜΠΟΡΙΚΟ ΤΡΙΓΩΝΟ-ΠΛΑΚΑ  37.978827  23.729676   \n",
       "2868  206838334    Stratos                  ΘΗΣΕΙΟ  37.978030  23.722840   \n",
       "8595  469788883    Andreas               ΠΕΤΡΑΛΩΝΑ  37.971042  23.708681   \n",
       "\n",
       "            room_type   price  number_of_reviews  reviews_per_month  \n",
       "4894  Entire home/apt  2000.0                  0                NaN  \n",
       "5246  Entire home/apt  1980.0                  4               0.15  \n",
       "9967     Private room  1702.0                  0                NaN  \n",
       "2868  Entire home/apt  1649.0                 15               0.27  \n",
       "8595  Entire home/apt  1500.0                  4               0.28  "
      ]
     },
     "execution_count": 14,
     "metadata": {},
     "output_type": "execute_result"
    }
   ],
   "source": [
    "# Calculate the Z-score for each listing\n",
    "z_scores_listings = np.abs((listings['price'] - listings['price'].mean()) / listings['price'].std(ddof=0))\n",
    "# The ddof=0 parameter indicates that the population standard deviation shall be used instead of the sample standard deviation\n",
    "# which in this case is more appropriate\n",
    "\n",
    "# If the Z-score is greater than 3, then the listing is an outlier\n",
    "outliers_listings = z_scores_listings > 3\n",
    "\n",
    "# We will remove the outliers and place the new values in a new dataframe called 'listings_no_outliers'\n",
    "listings_no_outliers = listings[~outliers_listings]\n",
    "\n",
    "# Display the first few rows of the new dataframe\n",
    "listings_no_outliers.sort_values(by='price', ascending=False).head()"
   ]
  },
  {
   "cell_type": "markdown",
   "id": "1558cb95b0497f8f",
   "metadata": {
    "collapsed": false,
    "jupyter": {
     "outputs_hidden": false
    }
   },
   "source": [
    "#### Let's now display the new boxplot of the prices."
   ]
  },
  {
   "cell_type": "code",
   "execution_count": 15,
   "id": "5b546a096b74bca5",
   "metadata": {
    "ExecuteTime": {
     "end_time": "2023-10-30T11:31:12.356997800Z",
     "start_time": "2023-10-30T11:31:12.242457500Z"
    },
    "collapsed": false,
    "jupyter": {
     "outputs_hidden": false
    }
   },
   "outputs": [
    {
     "data": {
      "image/png": "[encoded data removed]",
      "text/plain": [
       "<Figure size 1000x600 with 1 Axes>"
      ]
     },
     "metadata": {},
     "output_type": "display_data"
    }
   ],
   "source": [
    "# Create the boxplot of the new prices\n",
    "listings_no_outliers['price'].plot(kind='box', figsize=(10, 6))\n",
    "plt.title('Boxplot of Prices (No Outliers)')\n",
    "plt.ylabel('Price')\n",
    "plt.xticks([1], ['Listings'])\n",
    "plt.show()"
   ]
  },
  {
   "cell_type": "markdown",
   "id": "aefe1f84c1d7bb0d",
   "metadata": {
    "collapsed": false,
    "jupyter": {
     "outputs_hidden": false
    }
   },
   "source": [
    "We can see that the distribution is still highly skewed, but the extreme outliers are now removed and the distribution is more readable."
   ]
  },
  {
   "cell_type": "markdown",
   "id": "e8b4155b8ee8c628",
   "metadata": {
    "collapsed": false,
    "jupyter": {
     "outputs_hidden": false
    }
   },
   "source": [
    "### Important Note about the Calendar Data\n",
    "\n",
    "The same observation can be done for the `price` and `adjusted_price` column, which we can be seen from these statistics:"
   ]
  },
  {
   "cell_type": "code",
   "execution_count": 16,
   "id": "7dbe8d109a70deda",
   "metadata": {
    "ExecuteTime": {
     "end_time": "2023-10-30T11:31:12.487004700Z",
     "start_time": "2023-10-30T11:31:12.320995700Z"
    },
    "collapsed": false,
    "jupyter": {
     "outputs_hidden": false
    }
   },
   "outputs": [
    {
     "data": {
      "text/plain": [
       "count    4728229.000\n",
       "mean         141.852\n",
       "std          799.494\n",
       "min            0.000\n",
       "25%           50.000\n",
       "50%           71.000\n",
       "75%          117.000\n",
       "max        85140.000\n",
       "Name: price, dtype: float64"
      ]
     },
     "execution_count": 16,
     "metadata": {},
     "output_type": "execute_result"
    }
   ],
   "source": [
    "# Display some statistics for the 'price' column\n",
    "calendar['price'].describe().round(3)"
   ]
  },
  {
   "cell_type": "code",
   "execution_count": 17,
   "id": "7814268511ab5091",
   "metadata": {
    "ExecuteTime": {
     "end_time": "2023-10-30T11:31:12.519612300Z",
     "start_time": "2023-10-30T11:31:12.405005300Z"
    },
    "collapsed": false,
    "jupyter": {
     "outputs_hidden": false
    }
   },
   "outputs": [
    {
     "data": {
      "text/plain": [
       "count    4728229.000\n",
       "mean         138.429\n",
       "std          744.826\n",
       "min            0.000\n",
       "25%           50.000\n",
       "50%           71.000\n",
       "75%          115.000\n",
       "max        85140.000\n",
       "Name: adjusted_price, dtype: float64"
      ]
     },
     "execution_count": 17,
     "metadata": {},
     "output_type": "execute_result"
    }
   ],
   "source": [
    "# Display some statistics for the 'adjusted_price' column\n",
    "calendar['adjusted_price'].describe().round(3)"
   ]
  },
  {
   "cell_type": "code",
   "execution_count": 18,
   "id": "556644f2923d6820",
   "metadata": {
    "ExecuteTime": {
     "end_time": "2023-10-30T11:31:13.338381400Z",
     "start_time": "2023-10-30T11:31:12.496608500Z"
    },
    "collapsed": false,
    "jupyter": {
     "outputs_hidden": false
    }
   },
   "outputs": [
    {
     "data": {
      "image/png": "[encoded data removed]",
      "text/plain": [
       "<Figure size 1000x600 with 1 Axes>"
      ]
     },
     "metadata": {},
     "output_type": "display_data"
    },
    {
     "data": {
      "image/png": "[encoded data removed]",
      "text/plain": [
       "<Figure size 1000x600 with 1 Axes>"
      ]
     },
     "metadata": {},
     "output_type": "display_data"
    }
   ],
   "source": [
    "# Create the boxplot of the prices\n",
    "plt.figure(figsize=(10, 6))\n",
    "# Display the boxplot\n",
    "plt.boxplot(calendar['price'])\n",
    "plt.title('Boxplot of Prices (Calendar)')\n",
    "plt.ylabel('Price')\n",
    "plt.xticks([1], ['Listings'])\n",
    "plt.show()\n",
    "\n",
    "# Create the boxplot of the adjusted prices\n",
    "plt.figure(figsize=(10, 6))\n",
    "# Display the boxplot\n",
    "plt.boxplot(calendar['adjusted_price'])\n",
    "plt.title('Boxplot of Adjusted Prices (Calendar)')\n",
    "plt.ylabel('Price')\n",
    "plt.xticks([1], ['Listings'])\n",
    "plt.show()"
   ]
  },
  {
   "cell_type": "markdown",
   "id": "2d57e4ae93decd6e",
   "metadata": {
    "collapsed": false,
    "jupyter": {
     "outputs_hidden": false
    }
   },
   "source": [
    "As we can see from the statistics and the boxplots, the distributions are highly skewed, with a few listings having a very high price and most listings having a low price as before.\n",
    "\n",
    "We again proceed with the Z-score method to remove the outliers from these dataframes as well."
   ]
  },
  {
   "cell_type": "code",
   "execution_count": 19,
   "id": "b0bafe45d8e9216f",
   "metadata": {
    "ExecuteTime": {
     "end_time": "2023-10-30T11:31:13.638288200Z",
     "start_time": "2023-10-30T11:31:13.340380Z"
    },
    "collapsed": false,
    "jupyter": {
     "outputs_hidden": false
    }
   },
   "outputs": [],
   "source": [
    "# Calculate the Z-score for each listing as before\n",
    "z_scores_calendar = np.abs((calendar['price'] - calendar['price'].mean()) / calendar['price'].std(ddof=0))\n",
    "# Same for the adjusted price\n",
    "z_scores_calendar_adjusted = np.abs(\n",
    "    (calendar['adjusted_price'] - calendar['adjusted_price'].mean()) / calendar['adjusted_price'].std(ddof=0))\n",
    "\n",
    "# If the Z-score is greater than 3, then the listing is an outlier\n",
    "outliers_calendar = z_scores_calendar > 3\n",
    "outliers_calendar_adjusted = z_scores_calendar_adjusted > 3\n",
    "\n",
    "# We will remove the outliers and save the new values in new dataframes\n",
    "calendar_no_outliers = calendar[~outliers_calendar]\n",
    "calendar_adj_no_outliers = calendar[~outliers_calendar_adjusted]"
   ]
  },
  {
   "cell_type": "markdown",
   "id": "c6185a335bf26260",
   "metadata": {
    "collapsed": false,
    "jupyter": {
     "outputs_hidden": false
    }
   },
   "source": [
    "Now that we have fixed the outliers, and saved the new values in `listings_no_outliers` ,`calendar_no_outliers` and `calendar_adj_no_outliers`,\n",
    "we can continue with our analysis."
   ]
  },
  {
   "cell_type": "markdown",
   "id": "e33672e048671790",
   "metadata": {
    "collapsed": false,
    "jupyter": {
     "outputs_hidden": false
    }
   },
   "source": [
    "## (3) Availability per Day\n",
    "\n",
    "We want a plot with the number of listings available per day, on the $y$ axis, and the date, on the $x$ axis.\n",
    "\n",
    "To make the plot, we will use the `calendar` data. We will first filter the data to only include available listings (where `available` is `t`). We will then group the data by the `date` column and count the number of listings available for each date. Finally, we will create the plot."
   ]
  },
  {
   "cell_type": "code",
   "execution_count": 20,
   "id": "68e4aabff46d445e",
   "metadata": {
    "ExecuteTime": {
     "end_time": "2023-10-30T11:31:14.086797600Z",
     "start_time": "2023-10-30T11:31:13.639287300Z"
    },
    "collapsed": false,
    "jupyter": {
     "outputs_hidden": false
    }
   },
   "outputs": [
    {
     "data": {
      "image/png": "[encoded data removed]",
      "text/plain": [
       "<Figure size 1400x700 with 1 Axes>"
      ]
     },
     "metadata": {},
     "output_type": "display_data"
    }
   ],
   "source": [
    "# Filter the data to only include available listings (where 'available' is 't')\n",
    "calendar_available = calendar[calendar['available'] == 't']\n",
    "\n",
    "# Group the data by the 'date' column and count the number of listings available for each date\n",
    "availability_per_day = calendar_available.groupby('date')['listing_id'].count()\n",
    "\n",
    "# Create the plot\n",
    "plt.figure(figsize=(14, 7))\n",
    "# We use a line plot as it is more appropriate for this case\n",
    "sns.lineplot(x=availability_per_day.index, y=availability_per_day.values)\n",
    "# Set the x-axis to display the dates in a readable format\n",
    "plt.xlabel('Date')\n",
    "plt.ylabel('Number of Listings Available')\n",
    "plt.title('Number of Listings Available Per Day')\n",
    "plt.grid(True)\n",
    "plt.show()"
   ]
  },
  {
   "cell_type": "markdown",
   "id": "b5b76f3acd09a76c",
   "metadata": {
    "collapsed": false,
    "jupyter": {
     "outputs_hidden": false
    }
   },
   "source": [
    "## (4) Reviews, Occupancy per Listing, Average Income\n",
    "\n",
    "We will create a histogram showing the number of reviews per listing. The histogram will bin the number of reviews, from the smallest amount of reviews in a listing, to the maximum number of reviews in a listing rounded up to the closest hundred.\n",
    "\n",
    "Once we have done that, we will calculate the average occupancy per listing per month. To calculate that, we will find the average reviews per month and assume that half of the bookings result in reviews.\n",
    "\n",
    "Then, assuming that each booking is for a three nights stay, we will calculate the average income per month, using the average price charged throughout all listings."
   ]
  },
  {
   "cell_type": "markdown",
   "id": "85aa8d5a4c151154",
   "metadata": {
    "collapsed": false,
    "jupyter": {
     "outputs_hidden": false
    }
   },
   "source": [
    "### First, we will create the histogram showing the number of reviews per listing.\n",
    "\n",
    "We will bin the number of reviews, from the smallest amount of reviews in a listing, to the maximum number of reviews in a listing rounded up to the closest hundred\n",
    "and arrange the bins 100 reviews apart and then create the histogram.\n",
    "\n",
    "**Note**: We will plot the histogram in logarithmic scale, as the distribution is highly skewed, so the logarithmic scale will make the distribution more readable."
   ]
  },
  {
   "cell_type": "code",
   "execution_count": 21,
   "id": "b070f1b428f13d14",
   "metadata": {
    "ExecuteTime": {
     "end_time": "2023-10-30T11:31:14.353799200Z",
     "start_time": "2023-10-30T11:31:14.065798300Z"
    },
    "collapsed": false,
    "jupyter": {
     "outputs_hidden": false
    }
   },
   "outputs": [
    {
     "data": {
      "image/png": "[encoded data removed]",
      "text/plain": [
       "<Figure size 1200x600 with 1 Axes>"
      ]
     },
     "metadata": {},
     "output_type": "display_data"
    }
   ],
   "source": [
    "# Extract the 'number_of_reviews' column from the listings dataframe\n",
    "reviews_data = listings['number_of_reviews']\n",
    "\n",
    "# Calculate the maximum number of reviews rounded up to the closest hundred\n",
    "max_reviews = np.ceil(reviews_data.max() / 100) * 100\n",
    "\n",
    "# Create bins from the smallest amount of reviews to the maximum rounded up to the closest hundred, each bin spaced 100 reviews apart\n",
    "bins = np.arange(0, max_reviews + 1, 100)\n",
    "\n",
    "# Create the histogram\n",
    "plt.figure(figsize=(12, 6))\n",
    "# We use the logarithmic scale as the distribution is highly skewed, so the logarithmic scale will make the distribution more readable\n",
    "plt.hist(reviews_data, bins=bins, edgecolor='black', log=True)\n",
    "plt.title('Histogram of Number of Reviews per Listing')\n",
    "plt.xlabel('Number of Reviews')\n",
    "plt.xticks(bins)\n",
    "plt.ylabel('Number of Listings')\n",
    "plt.grid(True)\n",
    "plt.show()"
   ]
  },
  {
   "cell_type": "markdown",
   "id": "c328f94ee34933c7",
   "metadata": {
    "collapsed": false,
    "jupyter": {
     "outputs_hidden": false
    }
   },
   "source": [
    "It's clear that most listings have a small number of reviews (less than 100), with only a few listings having a large number of reviews (more than 600)."
   ]
  },
  {
   "cell_type": "markdown",
   "id": "27e28c40b8e9d556",
   "metadata": {
    "collapsed": false,
    "jupyter": {
     "outputs_hidden": false
    }
   },
   "source": [
    "### Second, we will calculate the average occupancy per listing per month.\n",
    "\n",
    "We will find the average reviews per month and assume that half of the bookings result in reviews. \n",
    "Then, we will calculate the average occupancy per listing per month.\n",
    "\n",
    "**Note**: We make the assumption that the `Nan` values of the reviews per month column are equal to 0, as they can distort the average calculation, and we want to take into account the listings that have no reviews.\n",
    "\n",
    "We could also drop these values from the dataframe, and we would get the average occupancy to be `3.592`."
   ]
  },
  {
   "cell_type": "code",
   "execution_count": 22,
   "id": "3e5d9d0622d6b793",
   "metadata": {
    "ExecuteTime": {
     "end_time": "2023-10-30T11:31:14.360886400Z",
     "start_time": "2023-10-30T11:31:14.353799200Z"
    },
    "collapsed": false,
    "jupyter": {
     "outputs_hidden": false
    }
   },
   "outputs": [
    {
     "name": "stdout",
     "output_type": "stream",
     "text": [
      "Average Occupancy per Listing per Month: 3.049\n"
     ]
    }
   ],
   "source": [
    "# Extract the 'reviews_per_month' column from the listings dataframe\n",
    "reviews_per_month_data = listings['reviews_per_month']\n",
    "\n",
    "# Make Nan values equal to 0 as they can distort the average calculation, and we want to take \n",
    "# into account the listings that have no reviews\n",
    "reviews_per_month_data = reviews_per_month_data.fillna(0)\n",
    "\n",
    "# Assume that half of the bookings result in reviews, so double the 'reviews_per_month' to get estimated bookings per month\n",
    "estimated_bookings_per_month = reviews_per_month_data * 2\n",
    "\n",
    "# Calculate the average of these estimated bookings to get the average occupancy per listing per month\n",
    "average_occupancy_per_listing_per_month = estimated_bookings_per_month.mean()\n",
    "print('Average Occupancy per Listing per Month: {:.3f}'.format(average_occupancy_per_listing_per_month))"
   ]
  },
  {
   "cell_type": "markdown",
   "id": "8ee6bb86b2c1cb9b",
   "metadata": {
    "collapsed": false,
    "jupyter": {
     "outputs_hidden": false
    }
   },
   "source": [
    "### Finally, we will calculate the average income per month.\n",
    "\n",
    "We will do it with 3 different ways (choices of price columns):\n",
    "\n",
    "* First, we will calculate the average income per month using the `price` column from `listings`\n",
    "* Second, we will calculate the average income per month using the `price` column from `calendar`\n",
    "* Lastly, we will calculate the average income per month using the `adjusted_price` column from `calendar`, which maybe is more accurate in some cases.\n",
    "\n",
    "**Important Note**: In this case, because we want our results to not be skewed by the outliers, \n",
    "we will use the `listings_no_outliers`, `calendar_no_outliers`,`calendar_adj_no_outliers`  dataframes, \n",
    "which have the outliers removed according to the Z-score method, \n",
    "so that the results are more accurate and representative of the data. These dataframes were created in the **Important Observation** section of the 2nd objective."
   ]
  },
  {
   "cell_type": "code",
   "execution_count": 23,
   "id": "1097bb39d15f671f",
   "metadata": {
    "ExecuteTime": {
     "end_time": "2023-10-30T11:31:14.363398700Z",
     "start_time": "2023-10-30T11:31:14.358677Z"
    },
    "collapsed": false,
    "jupyter": {
     "outputs_hidden": false
    }
   },
   "outputs": [
    {
     "name": "stdout",
     "output_type": "stream",
     "text": [
      "Average Income per Month (Listing_Price): 904.193\n"
     ]
    }
   ],
   "source": [
    "#(1) Calculate the average price charged throughout all listings (with the outliers removed), using the 'price' column from listings\n",
    "avg_price = listings_no_outliers['price'].mean()\n",
    "\n",
    "# Calculate the average income per month assuming each booking is for a three nights stay\n",
    "avg_income_per_month = avg_price * average_occupancy_per_listing_per_month * 3\n",
    "\n",
    "print('Average Income per Month (Listing_Price): {:.3f}'.format(avg_income_per_month))"
   ]
  },
  {
   "cell_type": "code",
   "execution_count": 24,
   "id": "9bb2fae8f66ca7a",
   "metadata": {
    "ExecuteTime": {
     "end_time": "2023-10-30T11:31:14.465111800Z",
     "start_time": "2023-10-30T11:31:14.363398700Z"
    },
    "collapsed": false,
    "jupyter": {
     "outputs_hidden": false
    }
   },
   "outputs": [
    {
     "name": "stdout",
     "output_type": "stream",
     "text": [
      "Average Income per Month (Calendar_Price): 919.422\n"
     ]
    }
   ],
   "source": [
    "#(2) Calculate the average price charged throughout all listings (with the outliers removed), using the 'price' column from calendar\n",
    "avg_price_calendar = calendar_no_outliers['price'].mean()\n",
    "\n",
    "# Calculate the average income per month assuming each booking is for a three nights stay\n",
    "avg_income_per_month_calendar = avg_price_calendar * average_occupancy_per_listing_per_month * 3\n",
    "\n",
    "print('Average Income per Month (Calendar_Price): {:.3f}'.format(avg_income_per_month_calendar))"
   ]
  },
  {
   "cell_type": "code",
   "execution_count": 25,
   "id": "a963f14c74b59e4d",
   "metadata": {
    "ExecuteTime": {
     "end_time": "2023-10-30T11:31:14.465627300Z",
     "start_time": "2023-10-30T11:31:14.378343600Z"
    },
    "collapsed": false,
    "jupyter": {
     "outputs_hidden": false
    }
   },
   "outputs": [
    {
     "name": "stdout",
     "output_type": "stream",
     "text": [
      "Average Income per Month (Adjusted_Calendar_Price): 907.497\n"
     ]
    }
   ],
   "source": [
    "#(3) Calculate the average income per month using the 'adjusted_price' column from calendar\n",
    "avg_price_calendar = calendar_adj_no_outliers['adjusted_price'].mean()\n",
    "\n",
    "# Calculate the average income per month assuming each booking is for a three nights stay\n",
    "avg_income_per_month_calendar = avg_price_calendar * average_occupancy_per_listing_per_month * 3\n",
    "\n",
    "print('Average Income per Month (Adjusted_Calendar_Price): {:.3f}'.format(avg_income_per_month_calendar))"
   ]
  },
  {
   "cell_type": "markdown",
   "id": "867e00ca8041c7b5",
   "metadata": {
    "collapsed": false,
    "jupyter": {
     "outputs_hidden": false
    }
   },
   "source": [
    "## (5) Listings per Room Type\n",
    "\n",
    "We want to show the number of listings per room type, in absolute numbers, and also in percentages (the percentage of listings for each particular room type).\n",
    "Then, to show the number of listings per neighbourhood and room type."
   ]
  },
  {
   "cell_type": "markdown",
   "id": "4da2863637542901",
   "metadata": {
    "collapsed": false,
    "jupyter": {
     "outputs_hidden": false
    }
   },
   "source": [
    "### First, we will show the number of listings per room type, in absolute numbers, and also in percentages."
   ]
  },
  {
   "cell_type": "code",
   "execution_count": 26,
   "id": "b171eb7089b148a8",
   "metadata": {
    "ExecuteTime": {
     "end_time": "2023-10-30T11:31:14.465627300Z",
     "start_time": "2023-10-30T11:31:14.391081800Z"
    },
    "collapsed": false,
    "jupyter": {
     "outputs_hidden": false
    }
   },
   "outputs": [
    {
     "data": {
      "text/plain": [
       "room_type\n",
       "Entire home/apt    11652\n",
       "Private room        1113\n",
       "Hotel room           105\n",
       "Shared room           85\n",
       "Name: count, dtype: int64"
      ]
     },
     "execution_count": 26,
     "metadata": {},
     "output_type": "execute_result"
    }
   ],
   "source": [
    "# Count the number of listings per room type\n",
    "room_type_counts = listings['room_type'].value_counts()\n",
    "room_type_counts"
   ]
  },
  {
   "cell_type": "code",
   "execution_count": 27,
   "id": "b906c94d73eeb804",
   "metadata": {
    "ExecuteTime": {
     "end_time": "2023-10-30T11:31:14.465627300Z",
     "start_time": "2023-10-30T11:31:14.396646600Z"
    },
    "collapsed": false,
    "jupyter": {
     "outputs_hidden": false
    }
   },
   "outputs": [
    {
     "data": {
      "text/plain": [
       "room_type\n",
       "Entire home/apt    89.942107\n",
       "Private room        8.591277\n",
       "Hotel room          0.810498\n",
       "Shared room         0.656117\n",
       "Name: count, dtype: float64"
      ]
     },
     "execution_count": 27,
     "metadata": {},
     "output_type": "execute_result"
    }
   ],
   "source": [
    "# Count the number of listings per room type as a percentage of the total number of listings\n",
    "room_type_counts_percentages = room_type_counts / room_type_counts.sum() * 100\n",
    "room_type_counts_percentages"
   ]
  },
  {
   "cell_type": "markdown",
   "id": "737f734d5f611bab",
   "metadata": {
    "collapsed": false,
    "jupyter": {
     "outputs_hidden": false
    }
   },
   "source": [
    "It is evident that vast majority of listings are entire homes/apartments, with the next most common room type being private rooms."
   ]
  },
  {
   "cell_type": "markdown",
   "id": "852e39e911a2d554",
   "metadata": {
    "collapsed": false,
    "jupyter": {
     "outputs_hidden": false
    }
   },
   "source": [
    "### Then, we will show the number of listings per neighbourhood and room type."
   ]
  },
  {
   "cell_type": "code",
   "execution_count": 28,
   "id": "38ce298c6d4ff95d",
   "metadata": {
    "ExecuteTime": {
     "end_time": "2023-10-30T11:31:14.466623900Z",
     "start_time": "2023-10-30T11:31:14.401569900Z"
    },
    "collapsed": false,
    "jupyter": {
     "outputs_hidden": false
    }
   },
   "outputs": [
    {
     "data": {
      "text/html": [
       "<div>\n",
       "<style scoped>\n",
       "    .dataframe tbody tr th:only-of-type {\n",
       "        vertical-align: middle;\n",
       "    }\n",
       "\n",
       "    .dataframe tbody tr th {\n",
       "        vertical-align: top;\n",
       "    }\n",
       "\n",
       "    .dataframe thead th {\n",
       "        text-align: right;\n",
       "    }\n",
       "</style>\n",
       "<table border=\"1\" class=\"dataframe\">\n",
       "  <thead>\n",
       "    <tr style=\"text-align: right;\">\n",
       "      <th></th>\n",
       "      <th>neighbourhood_cleansed</th>\n",
       "      <th>room_type</th>\n",
       "      <th>count</th>\n",
       "    </tr>\n",
       "  </thead>\n",
       "  <tbody>\n",
       "    <tr>\n",
       "      <th>0</th>\n",
       "      <td>1Ο ΝΕΚΡΟΤΑΦΕΙΟ</td>\n",
       "      <td>Entire home/apt</td>\n",
       "      <td>55</td>\n",
       "    </tr>\n",
       "    <tr>\n",
       "      <th>1</th>\n",
       "      <td>ΑΓΙΟΣ ΕΛΕΥΘΕΡΙΟΣ</td>\n",
       "      <td>Entire home/apt</td>\n",
       "      <td>33</td>\n",
       "    </tr>\n",
       "    <tr>\n",
       "      <th>2</th>\n",
       "      <td>ΑΓΙΟΣ ΕΛΕΥΘΕΡΙΟΣ</td>\n",
       "      <td>Private room</td>\n",
       "      <td>5</td>\n",
       "    </tr>\n",
       "    <tr>\n",
       "      <th>3</th>\n",
       "      <td>ΑΓΙΟΣ ΚΩΝΣΤΑΝΤΙΝΟΣ-ΠΛΑΤΕΙΑ ΒΑΘΗΣ</td>\n",
       "      <td>Entire home/apt</td>\n",
       "      <td>686</td>\n",
       "    </tr>\n",
       "    <tr>\n",
       "      <th>4</th>\n",
       "      <td>ΑΓΙΟΣ ΚΩΝΣΤΑΝΤΙΝΟΣ-ΠΛΑΤΕΙΑ ΒΑΘΗΣ</td>\n",
       "      <td>Hotel room</td>\n",
       "      <td>4</td>\n",
       "    </tr>\n",
       "    <tr>\n",
       "      <th>...</th>\n",
       "      <td>...</td>\n",
       "      <td>...</td>\n",
       "      <td>...</td>\n",
       "    </tr>\n",
       "    <tr>\n",
       "      <th>106</th>\n",
       "      <td>ΣΤΑΔΙΟ</td>\n",
       "      <td>Private room</td>\n",
       "      <td>11</td>\n",
       "    </tr>\n",
       "    <tr>\n",
       "      <th>107</th>\n",
       "      <td>ΣΤΑΘΜΟΣ ΛΑΡΙΣΗΣ</td>\n",
       "      <td>Entire home/apt</td>\n",
       "      <td>73</td>\n",
       "    </tr>\n",
       "    <tr>\n",
       "      <th>108</th>\n",
       "      <td>ΣΤΑΘΜΟΣ ΛΑΡΙΣΗΣ</td>\n",
       "      <td>Hotel room</td>\n",
       "      <td>4</td>\n",
       "    </tr>\n",
       "    <tr>\n",
       "      <th>109</th>\n",
       "      <td>ΣΤΑΘΜΟΣ ΛΑΡΙΣΗΣ</td>\n",
       "      <td>Private room</td>\n",
       "      <td>4</td>\n",
       "    </tr>\n",
       "    <tr>\n",
       "      <th>110</th>\n",
       "      <td>ΣΤΑΘΜΟΣ ΛΑΡΙΣΗΣ</td>\n",
       "      <td>Shared room</td>\n",
       "      <td>4</td>\n",
       "    </tr>\n",
       "  </tbody>\n",
       "</table>\n",
       "<p>111 rows × 3 columns</p>\n",
       "</div>"
      ],
      "text/plain": [
       "               neighbourhood_cleansed        room_type  count\n",
       "0                      1Ο ΝΕΚΡΟΤΑΦΕΙΟ  Entire home/apt     55\n",
       "1                    ΑΓΙΟΣ ΕΛΕΥΘΕΡΙΟΣ  Entire home/apt     33\n",
       "2                    ΑΓΙΟΣ ΕΛΕΥΘΕΡΙΟΣ     Private room      5\n",
       "3    ΑΓΙΟΣ ΚΩΝΣΤΑΝΤΙΝΟΣ-ΠΛΑΤΕΙΑ ΒΑΘΗΣ  Entire home/apt    686\n",
       "4    ΑΓΙΟΣ ΚΩΝΣΤΑΝΤΙΝΟΣ-ΠΛΑΤΕΙΑ ΒΑΘΗΣ       Hotel room      4\n",
       "..                                ...              ...    ...\n",
       "106                            ΣΤΑΔΙΟ     Private room     11\n",
       "107                   ΣΤΑΘΜΟΣ ΛΑΡΙΣΗΣ  Entire home/apt     73\n",
       "108                   ΣΤΑΘΜΟΣ ΛΑΡΙΣΗΣ       Hotel room      4\n",
       "109                   ΣΤΑΘΜΟΣ ΛΑΡΙΣΗΣ     Private room      4\n",
       "110                   ΣΤΑΘΜΟΣ ΛΑΡΙΣΗΣ      Shared room      4\n",
       "\n",
       "[111 rows x 3 columns]"
      ]
     },
     "execution_count": 28,
     "metadata": {},
     "output_type": "execute_result"
    }
   ],
   "source": [
    "# Count the number of listings per neighbourhood and room type using the 'neighbourhood_cleansed' column\n",
    "listings_per_neighbourhood_and_room_type = listings.groupby(['neighbourhood_cleansed', 'room_type']).size().reset_index(\n",
    "    name='count')\n",
    "listings_per_neighbourhood_and_room_type"
   ]
  },
  {
   "cell_type": "markdown",
   "id": "9cf87b8a59aebbd6",
   "metadata": {
    "collapsed": false,
    "jupyter": {
     "outputs_hidden": false
    }
   },
   "source": [
    "## (6) Prices per Day\n",
    "\n",
    "We will create a table with the average price per listing per day and draw a graph visualizing the table."
   ]
  },
  {
   "cell_type": "markdown",
   "id": "3c0e350a6dbf0af",
   "metadata": {
    "collapsed": false,
    "jupyter": {
     "outputs_hidden": false
    }
   },
   "source": [
    "### First, we will create a table with the average price per listing per day.\n",
    "\n",
    "In this case we will use the `calendar` data. We will group the data by `listing_id` and `date` and calculate the average price per listing per day."
   ]
  },
  {
   "cell_type": "code",
   "execution_count": 29,
   "id": "b71e4fa668f6f236",
   "metadata": {
    "ExecuteTime": {
     "end_time": "2023-10-30T11:31:14.488625800Z",
     "start_time": "2023-10-30T11:31:14.412169400Z"
    },
    "collapsed": false,
    "jupyter": {
     "outputs_hidden": false
    }
   },
   "outputs": [
    {
     "data": {
      "text/html": [
       "<div>\n",
       "<style scoped>\n",
       "    .dataframe tbody tr th:only-of-type {\n",
       "        vertical-align: middle;\n",
       "    }\n",
       "\n",
       "    .dataframe tbody tr th {\n",
       "        vertical-align: top;\n",
       "    }\n",
       "\n",
       "    .dataframe thead th {\n",
       "        text-align: right;\n",
       "    }\n",
       "</style>\n",
       "<table border=\"1\" class=\"dataframe\">\n",
       "  <thead>\n",
       "    <tr style=\"text-align: right;\">\n",
       "      <th></th>\n",
       "      <th>date</th>\n",
       "      <th>price</th>\n",
       "    </tr>\n",
       "  </thead>\n",
       "  <tbody>\n",
       "    <tr>\n",
       "      <th>0</th>\n",
       "      <td>2023-09-21</td>\n",
       "      <td>113.108</td>\n",
       "    </tr>\n",
       "    <tr>\n",
       "      <th>1</th>\n",
       "      <td>2023-09-22</td>\n",
       "      <td>116.212</td>\n",
       "    </tr>\n",
       "    <tr>\n",
       "      <th>2</th>\n",
       "      <td>2023-09-23</td>\n",
       "      <td>116.265</td>\n",
       "    </tr>\n",
       "    <tr>\n",
       "      <th>3</th>\n",
       "      <td>2023-09-24</td>\n",
       "      <td>113.046</td>\n",
       "    </tr>\n",
       "    <tr>\n",
       "      <th>4</th>\n",
       "      <td>2023-09-25</td>\n",
       "      <td>111.629</td>\n",
       "    </tr>\n",
       "    <tr>\n",
       "      <th>...</th>\n",
       "      <td>...</td>\n",
       "      <td>...</td>\n",
       "    </tr>\n",
       "    <tr>\n",
       "      <th>360</th>\n",
       "      <td>2024-09-15</td>\n",
       "      <td>110.924</td>\n",
       "    </tr>\n",
       "    <tr>\n",
       "      <th>361</th>\n",
       "      <td>2024-09-16</td>\n",
       "      <td>110.403</td>\n",
       "    </tr>\n",
       "    <tr>\n",
       "      <th>362</th>\n",
       "      <td>2024-09-17</td>\n",
       "      <td>110.385</td>\n",
       "    </tr>\n",
       "    <tr>\n",
       "      <th>363</th>\n",
       "      <td>2024-09-18</td>\n",
       "      <td>110.299</td>\n",
       "    </tr>\n",
       "    <tr>\n",
       "      <th>364</th>\n",
       "      <td>2024-09-19</td>\n",
       "      <td>110.256</td>\n",
       "    </tr>\n",
       "  </tbody>\n",
       "</table>\n",
       "<p>365 rows × 2 columns</p>\n",
       "</div>"
      ],
      "text/plain": [
       "          date    price\n",
       "0   2023-09-21  113.108\n",
       "1   2023-09-22  116.212\n",
       "2   2023-09-23  116.265\n",
       "3   2023-09-24  113.046\n",
       "4   2023-09-25  111.629\n",
       "..         ...      ...\n",
       "360 2024-09-15  110.924\n",
       "361 2024-09-16  110.403\n",
       "362 2024-09-17  110.385\n",
       "363 2024-09-18  110.299\n",
       "364 2024-09-19  110.256\n",
       "\n",
       "[365 rows x 2 columns]"
      ]
     },
     "execution_count": 29,
     "metadata": {},
     "output_type": "execute_result"
    }
   ],
   "source": [
    "# Grouping the data by 'listing_id' and 'date' to calculate the average price per listing per day and round to 3 decimal places\n",
    "average_price_per_day_df = calendar.groupby('date')['price'].mean().round(3).reset_index()\n",
    "\n",
    "# Displaying the first few rows of the resulting DataFrame\n",
    "average_price_per_day_df"
   ]
  },
  {
   "cell_type": "markdown",
   "id": "f0385b7ff38f1aeb",
   "metadata": {
    "collapsed": false,
    "jupyter": {
     "outputs_hidden": false
    }
   },
   "source": [
    "### Then, we will draw a graph visualizing the table."
   ]
  },
  {
   "cell_type": "code",
   "execution_count": 30,
   "id": "c3d1ad06d8c73bec",
   "metadata": {
    "ExecuteTime": {
     "end_time": "2023-10-30T11:31:14.689140400Z",
     "start_time": "2023-10-30T11:31:14.467623700Z"
    },
    "collapsed": false,
    "jupyter": {
     "outputs_hidden": false
    }
   },
   "outputs": [
    {
     "data": {
      "image/png": "[encoded data removed]",
      "text/plain": [
       "<Figure size 1500x800 with 1 Axes>"
      ]
     },
     "metadata": {},
     "output_type": "display_data"
    }
   ],
   "source": [
    "# Create the plot\n",
    "plt.figure(figsize=(15, 8))\n",
    "\n",
    "# We use a line plot as it is more appropriate for this case\n",
    "sns.lineplot(x='date', y='price', data=average_price_per_day_df, errorbar=None)\n",
    "plt.title('Average Price per Day')\n",
    "plt.xlabel('Date')\n",
    "plt.ylabel('Overall Average Price ($)')\n",
    "plt.grid(True)\n",
    "# Set the x-axis to display the dates in a readable format\n",
    "plt.xticks(rotation=45)\n",
    "# Set the y-axis to start from 0\n",
    "plt.tight_layout()\n",
    "plt.show()"
   ]
  },
  {
   "cell_type": "markdown",
   "id": "34f486cdff4566be",
   "metadata": {
    "collapsed": false,
    "jupyter": {
     "outputs_hidden": false
    }
   },
   "source": [
    "### We can see that the average price per day is highly volatile, with a lot of spikes.\n",
    "\n",
    "The average price per day is the highest in the summer months, and lowest in the winter months.\n",
    "However, what seems odd is that the prices drop significantly in the middle of the summer to the end of the summer, which is the peak season for tourism in Athens.\n",
    "\n",
    "\n",
    "Also, if we did the same analysis for the adjusted price, we would see the same outcome, as we can see below."
   ]
  },
  {
   "cell_type": "code",
   "execution_count": 31,
   "id": "46a49feee9eeb21b",
   "metadata": {
    "ExecuteTime": {
     "end_time": "2023-10-30T11:31:14.833663400Z",
     "start_time": "2023-10-30T11:31:14.662142Z"
    },
    "collapsed": false,
    "jupyter": {
     "outputs_hidden": false
    }
   },
   "outputs": [
    {
     "data": {
      "text/html": [
       "<div>\n",
       "<style scoped>\n",
       "    .dataframe tbody tr th:only-of-type {\n",
       "        vertical-align: middle;\n",
       "    }\n",
       "\n",
       "    .dataframe tbody tr th {\n",
       "        vertical-align: top;\n",
       "    }\n",
       "\n",
       "    .dataframe thead th {\n",
       "        text-align: right;\n",
       "    }\n",
       "</style>\n",
       "<table border=\"1\" class=\"dataframe\">\n",
       "  <thead>\n",
       "    <tr style=\"text-align: right;\">\n",
       "      <th></th>\n",
       "      <th>date</th>\n",
       "      <th>adjusted_price</th>\n",
       "    </tr>\n",
       "  </thead>\n",
       "  <tbody>\n",
       "    <tr>\n",
       "      <th>0</th>\n",
       "      <td>2023-09-21</td>\n",
       "      <td>109.877</td>\n",
       "    </tr>\n",
       "    <tr>\n",
       "      <th>1</th>\n",
       "      <td>2023-09-22</td>\n",
       "      <td>112.868</td>\n",
       "    </tr>\n",
       "    <tr>\n",
       "      <th>2</th>\n",
       "      <td>2023-09-23</td>\n",
       "      <td>113.255</td>\n",
       "    </tr>\n",
       "    <tr>\n",
       "      <th>3</th>\n",
       "      <td>2023-09-24</td>\n",
       "      <td>110.520</td>\n",
       "    </tr>\n",
       "    <tr>\n",
       "      <th>4</th>\n",
       "      <td>2023-09-25</td>\n",
       "      <td>109.969</td>\n",
       "    </tr>\n",
       "    <tr>\n",
       "      <th>...</th>\n",
       "      <td>...</td>\n",
       "      <td>...</td>\n",
       "    </tr>\n",
       "    <tr>\n",
       "      <th>360</th>\n",
       "      <td>2024-09-15</td>\n",
       "      <td>109.345</td>\n",
       "    </tr>\n",
       "    <tr>\n",
       "      <th>361</th>\n",
       "      <td>2024-09-16</td>\n",
       "      <td>108.826</td>\n",
       "    </tr>\n",
       "    <tr>\n",
       "      <th>362</th>\n",
       "      <td>2024-09-17</td>\n",
       "      <td>108.807</td>\n",
       "    </tr>\n",
       "    <tr>\n",
       "      <th>363</th>\n",
       "      <td>2024-09-18</td>\n",
       "      <td>108.714</td>\n",
       "    </tr>\n",
       "    <tr>\n",
       "      <th>364</th>\n",
       "      <td>2024-09-19</td>\n",
       "      <td>108.682</td>\n",
       "    </tr>\n",
       "  </tbody>\n",
       "</table>\n",
       "<p>365 rows × 2 columns</p>\n",
       "</div>"
      ],
      "text/plain": [
       "          date  adjusted_price\n",
       "0   2023-09-21         109.877\n",
       "1   2023-09-22         112.868\n",
       "2   2023-09-23         113.255\n",
       "3   2023-09-24         110.520\n",
       "4   2023-09-25         109.969\n",
       "..         ...             ...\n",
       "360 2024-09-15         109.345\n",
       "361 2024-09-16         108.826\n",
       "362 2024-09-17         108.807\n",
       "363 2024-09-18         108.714\n",
       "364 2024-09-19         108.682\n",
       "\n",
       "[365 rows x 2 columns]"
      ]
     },
     "execution_count": 31,
     "metadata": {},
     "output_type": "execute_result"
    }
   ],
   "source": [
    "average_adjusted_price_per_day_df = calendar.groupby('date')['adjusted_price'].mean().round(3).reset_index()\n",
    "\n",
    "# Displaying the first few rows of the resulting DataFrame\n",
    "average_adjusted_price_per_day_df"
   ]
  },
  {
   "cell_type": "code",
   "execution_count": 32,
   "id": "90b27fbf75df9afc",
   "metadata": {
    "ExecuteTime": {
     "end_time": "2023-10-30T11:31:14.960012400Z",
     "start_time": "2023-10-30T11:31:14.718663100Z"
    },
    "collapsed": false,
    "jupyter": {
     "outputs_hidden": false
    }
   },
   "outputs": [
    {
     "data": {
      "image/png": "[encoded data removed]",
      "text/plain": [
       "<Figure size 1500x800 with 1 Axes>"
      ]
     },
     "metadata": {},
     "output_type": "display_data"
    }
   ],
   "source": [
    "# Create the plot\n",
    "plt.figure(figsize=(15, 8))\n",
    "\n",
    "# We use a line plot as it is more appropriate for this case\n",
    "sns.lineplot(x='date', y='adjusted_price', data=average_adjusted_price_per_day_df, errorbar=None)\n",
    "plt.title('Average Adjusted Price per Day')\n",
    "plt.xlabel('Date')\n",
    "plt.ylabel('Overall Average Price ($)')\n",
    "plt.grid(True)\n",
    "# Set the x-axis to display the dates in a readable format\n",
    "plt.xticks(rotation=45)\n",
    "# Set the y-axis to start from 0\n",
    "plt.tight_layout()\n",
    "plt.show()"
   ]
  },
  {
   "cell_type": "markdown",
   "id": "fb2c7af803dce66f",
   "metadata": {
    "collapsed": false,
    "jupyter": {
     "outputs_hidden": false
    }
   },
   "source": [
    "### We can also plot the average price per day when the outliers have been detected with the use of the Z-score method and therefore handled.\n",
    "\n",
    "Except this time, we will use the **imputation** method for the handling of the outliers, which is to replace the outliers with the median value of the column,\n",
    "as it is more appropriate for this case, because we want to preserve the data as much as possible, and the median value is not affected by the outliers."
   ]
  },
  {
   "cell_type": "code",
   "execution_count": 33,
   "id": "3bd999303b0152f4",
   "metadata": {
    "ExecuteTime": {
     "end_time": "2023-10-30T11:31:15.120703500Z",
     "start_time": "2023-10-30T11:31:14.913012100Z"
    },
    "collapsed": false,
    "jupyter": {
     "outputs_hidden": false
    }
   },
   "outputs": [
    {
     "data": {
      "text/html": [
       "<div>\n",
       "<style scoped>\n",
       "    .dataframe tbody tr th:only-of-type {\n",
       "        vertical-align: middle;\n",
       "    }\n",
       "\n",
       "    .dataframe tbody tr th {\n",
       "        vertical-align: top;\n",
       "    }\n",
       "\n",
       "    .dataframe thead th {\n",
       "        text-align: right;\n",
       "    }\n",
       "</style>\n",
       "<table border=\"1\" class=\"dataframe\">\n",
       "  <thead>\n",
       "    <tr style=\"text-align: right;\">\n",
       "      <th></th>\n",
       "      <th>date</th>\n",
       "      <th>price</th>\n",
       "    </tr>\n",
       "  </thead>\n",
       "  <tbody>\n",
       "    <tr>\n",
       "      <th>0</th>\n",
       "      <td>2023-09-21</td>\n",
       "      <td>101.277</td>\n",
       "    </tr>\n",
       "    <tr>\n",
       "      <th>1</th>\n",
       "      <td>2023-09-22</td>\n",
       "      <td>104.381</td>\n",
       "    </tr>\n",
       "    <tr>\n",
       "      <th>2</th>\n",
       "      <td>2023-09-23</td>\n",
       "      <td>104.434</td>\n",
       "    </tr>\n",
       "    <tr>\n",
       "      <th>3</th>\n",
       "      <td>2023-09-24</td>\n",
       "      <td>101.215</td>\n",
       "    </tr>\n",
       "    <tr>\n",
       "      <th>4</th>\n",
       "      <td>2023-09-25</td>\n",
       "      <td>99.798</td>\n",
       "    </tr>\n",
       "    <tr>\n",
       "      <th>...</th>\n",
       "      <td>...</td>\n",
       "      <td>...</td>\n",
       "    </tr>\n",
       "    <tr>\n",
       "      <th>360</th>\n",
       "      <td>2024-09-15</td>\n",
       "      <td>108.218</td>\n",
       "    </tr>\n",
       "    <tr>\n",
       "      <th>361</th>\n",
       "      <td>2024-09-16</td>\n",
       "      <td>107.689</td>\n",
       "    </tr>\n",
       "    <tr>\n",
       "      <th>362</th>\n",
       "      <td>2024-09-17</td>\n",
       "      <td>107.671</td>\n",
       "    </tr>\n",
       "    <tr>\n",
       "      <th>363</th>\n",
       "      <td>2024-09-18</td>\n",
       "      <td>107.584</td>\n",
       "    </tr>\n",
       "    <tr>\n",
       "      <th>364</th>\n",
       "      <td>2024-09-19</td>\n",
       "      <td>107.541</td>\n",
       "    </tr>\n",
       "  </tbody>\n",
       "</table>\n",
       "<p>365 rows × 2 columns</p>\n",
       "</div>"
      ],
      "text/plain": [
       "          date    price\n",
       "0   2023-09-21  101.277\n",
       "1   2023-09-22  104.381\n",
       "2   2023-09-23  104.434\n",
       "3   2023-09-24  101.215\n",
       "4   2023-09-25   99.798\n",
       "..         ...      ...\n",
       "360 2024-09-15  108.218\n",
       "361 2024-09-16  107.689\n",
       "362 2024-09-17  107.671\n",
       "363 2024-09-18  107.584\n",
       "364 2024-09-19  107.541\n",
       "\n",
       "[365 rows x 2 columns]"
      ]
     },
     "execution_count": 33,
     "metadata": {},
     "output_type": "execute_result"
    }
   ],
   "source": [
    "# We replace the outliers of 'calendar' with the median value this time\n",
    "calendar_no_outliers = calendar.copy()\n",
    "calendar_no_outliers.loc[outliers_calendar, 'price'] = calendar_no_outliers.loc[~outliers_calendar, 'price'].median()\n",
    "\n",
    "# We group the data by 'listing_id' and 'date' to calculate the average price per listing per day and round to 3 decimal places\n",
    "average_price_per_day_df_no_outliers = calendar_no_outliers.groupby('date')['price'].mean().round(3).reset_index()\n",
    "\n",
    "# Displaying the first few rows of the resulting DataFrame\n",
    "average_price_per_day_df_no_outliers"
   ]
  },
  {
   "cell_type": "code",
   "execution_count": 34,
   "id": "849093340387341",
   "metadata": {
    "ExecuteTime": {
     "end_time": "2023-10-30T11:31:15.309856Z",
     "start_time": "2023-10-30T11:31:15.089704700Z"
    },
    "collapsed": false,
    "jupyter": {
     "outputs_hidden": false
    }
   },
   "outputs": [
    {
     "data": {
      "image/png": "[encoded data removed]",
      "text/plain": [
       "<Figure size 1500x800 with 1 Axes>"
      ]
     },
     "metadata": {},
     "output_type": "display_data"
    }
   ],
   "source": [
    "# Create the plot\n",
    "plt.figure(figsize=(15, 8))\n",
    "\n",
    "# We use a line plot as it is more appropriate for this case\n",
    "sns.lineplot(x='date', y='price', data=average_price_per_day_df_no_outliers, errorbar=None)\n",
    "plt.title('Average Price per Day (No Outliers)')\n",
    "plt.xlabel('Date')\n",
    "plt.ylabel('Overall Average Price ($)')\n",
    "plt.grid(True)\n",
    "# Set the x-axis to display the dates in a readable format\n",
    "plt.xticks(rotation=45)\n",
    "# Set the y-axis to start from 0\n",
    "plt.tight_layout()\n",
    "plt.show()"
   ]
  },
  {
   "cell_type": "markdown",
   "id": "d02e8b434dc09899",
   "metadata": {
    "collapsed": false,
    "jupyter": {
     "outputs_hidden": false
    }
   },
   "source": [
    "### With the outliers now adjusted, we can see that the average price per day is still highly volatile, with a lot of spikes.\n",
    "\n",
    "**However**, the average price per day is now more stable (compared to the previous graph),\n",
    " with the prices not dropping significantly in the middle of the summer to the end of the summer, \n",
    " which is the peak season for tourism in Athens, \n",
    "which makes sense and was expected, and in the winter months the prices are lower, which is also reasonable.\n",
    "Moreover, we can better see the prices below 100 dollars, which were not easily visible before.\n",
    "\n",
    "**Side note**: If we did the same analysis for the adjusted price, we would see the same outcome."
   ]
  },
  {
   "cell_type": "markdown",
   "id": "f48894bbe0279ef7",
   "metadata": {
    "collapsed": false,
    "jupyter": {
     "outputs_hidden": false
    }
   },
   "source": [
    "## (7) Listings per Host\n",
    "\n",
    "We want a table with the number of listings per host, in descending order. Create a graph that will show the distribution of listings per host, as follows:\n",
    "\n",
    "* We will rank the host on a number of listings basis. So, the first host will be the one with the largest number of listings, the second host will be the one with the second-largest number of listings, etc. If there is a number of hosts with the same listings, just add them in sequence. For instance, if there are 10 hosts with one listing each, add them in the ranking with any order between them.\n",
    "\n",
    "* On the $y$ axis you will have the number of listings.\n",
    "\n",
    "That is, a point $(x, y)$ will mean that the $x$-th highest hosting has $y$ listings.\n",
    "\n",
    "After we have drawn the plot, we will do another one, this time with the $x$ axis in *logarithmic* scale."
   ]
  },
  {
   "cell_type": "markdown",
   "id": "ec81653a3d1b79ea",
   "metadata": {
    "collapsed": false,
    "jupyter": {
     "outputs_hidden": false
    }
   },
   "source": [
    "### First, we will create a table with the number of listings per host, in descending order.\n",
    "\n",
    "For this case, we will use the `listings` data. We will group the data by `host_id` and count the number of listings per host. \n",
    "We will then sort the hosts in descending order. \n",
    "We may already have the number of listings per host in the `host_listings_count` column, but it's calculated in a different way (from AirBnb).\n",
    "\n",
    "We will calculate the number of listings per host in our own to be sure that we have the correct data and the data are only about Athens."
   ]
  },
  {
   "cell_type": "code",
   "execution_count": 35,
   "id": "b69727c7c5ebaa78",
   "metadata": {
    "ExecuteTime": {
     "end_time": "2023-10-30T11:31:15.310855900Z",
     "start_time": "2023-10-30T11:31:15.302736800Z"
    },
    "collapsed": false,
    "jupyter": {
     "outputs_hidden": false
    }
   },
   "outputs": [
    {
     "data": {
      "text/html": [
       "<div>\n",
       "<style scoped>\n",
       "    .dataframe tbody tr th:only-of-type {\n",
       "        vertical-align: middle;\n",
       "    }\n",
       "\n",
       "    .dataframe tbody tr th {\n",
       "        vertical-align: top;\n",
       "    }\n",
       "\n",
       "    .dataframe thead th {\n",
       "        text-align: right;\n",
       "    }\n",
       "</style>\n",
       "<table border=\"1\" class=\"dataframe\">\n",
       "  <thead>\n",
       "    <tr style=\"text-align: right;\">\n",
       "      <th></th>\n",
       "      <th>host_id</th>\n",
       "      <th>host_listings_count</th>\n",
       "    </tr>\n",
       "  </thead>\n",
       "  <tbody>\n",
       "    <tr>\n",
       "      <th>607</th>\n",
       "      <td>20104194</td>\n",
       "      <td>114</td>\n",
       "    </tr>\n",
       "    <tr>\n",
       "      <th>2069</th>\n",
       "      <td>113548208</td>\n",
       "      <td>88</td>\n",
       "    </tr>\n",
       "    <tr>\n",
       "      <th>1811</th>\n",
       "      <td>90390850</td>\n",
       "      <td>78</td>\n",
       "    </tr>\n",
       "    <tr>\n",
       "      <th>60</th>\n",
       "      <td>748818</td>\n",
       "      <td>74</td>\n",
       "    </tr>\n",
       "    <tr>\n",
       "      <th>1149</th>\n",
       "      <td>47267002</td>\n",
       "      <td>61</td>\n",
       "    </tr>\n",
       "    <tr>\n",
       "      <th>...</th>\n",
       "      <td>...</td>\n",
       "      <td>...</td>\n",
       "    </tr>\n",
       "    <tr>\n",
       "      <th>2242</th>\n",
       "      <td>130728079</td>\n",
       "      <td>1</td>\n",
       "    </tr>\n",
       "    <tr>\n",
       "      <th>2241</th>\n",
       "      <td>130646248</td>\n",
       "      <td>1</td>\n",
       "    </tr>\n",
       "    <tr>\n",
       "      <th>2240</th>\n",
       "      <td>130612477</td>\n",
       "      <td>1</td>\n",
       "    </tr>\n",
       "    <tr>\n",
       "      <th>2239</th>\n",
       "      <td>130551473</td>\n",
       "      <td>1</td>\n",
       "    </tr>\n",
       "    <tr>\n",
       "      <th>5773</th>\n",
       "      <td>537543834</td>\n",
       "      <td>1</td>\n",
       "    </tr>\n",
       "  </tbody>\n",
       "</table>\n",
       "<p>5774 rows × 2 columns</p>\n",
       "</div>"
      ],
      "text/plain": [
       "        host_id  host_listings_count\n",
       "607    20104194                  114\n",
       "2069  113548208                   88\n",
       "1811   90390850                   78\n",
       "60       748818                   74\n",
       "1149   47267002                   61\n",
       "...         ...                  ...\n",
       "2242  130728079                    1\n",
       "2241  130646248                    1\n",
       "2240  130612477                    1\n",
       "2239  130551473                    1\n",
       "5773  537543834                    1\n",
       "\n",
       "[5774 rows x 2 columns]"
      ]
     },
     "execution_count": 35,
     "metadata": {},
     "output_type": "execute_result"
    }
   ],
   "source": [
    "# We group the data by 'host_id' and count the number of listings per host \n",
    "listings_per_host = listings.groupby('host_id')['id'].count().reset_index(name='host_listings_count').sort_values(\n",
    "    by='host_listings_count',\n",
    "    ascending=False)\n",
    "listings_per_host"
   ]
  },
  {
   "cell_type": "markdown",
   "id": "aec4f3907815c412",
   "metadata": {
    "collapsed": false,
    "jupyter": {
     "outputs_hidden": false
    }
   },
   "source": [
    "### Now, we will draw a graph that will show the distribution of listings per host.\n",
    "\n",
    "We will place each host in the $x$ axis based on the rank of the host \n",
    "(the host with the most listings will be placed first, the host with the second-most listings will be placed second, etc.),\n",
    " with the `range` function."
   ]
  },
  {
   "cell_type": "code",
   "execution_count": 36,
   "id": "766d6d3be7a684ea",
   "metadata": {
    "ExecuteTime": {
     "end_time": "2023-10-30T11:31:15.450855600Z",
     "start_time": "2023-10-30T11:31:15.310855900Z"
    },
    "collapsed": false,
    "jupyter": {
     "outputs_hidden": false
    }
   },
   "outputs": [
    {
     "data": {
      "image/png": "[encoded data removed]",
      "text/plain": [
       "<Figure size 1500x800 with 1 Axes>"
      ]
     },
     "metadata": {},
     "output_type": "display_data"
    }
   ],
   "source": [
    "# Create the graph based on the sorted data\n",
    "plt.figure(figsize=(15, 8))\n",
    "# We will do a line plot as it is more appropriate for this case\n",
    "# We also take into account the rank of the host and if the host has the same number of listings as the previous host we add 1 to the rank\n",
    "sns.lineplot(x=range(1, len(listings_per_host) + 1), y='host_listings_count', data=listings_per_host)\n",
    "plt.title('Distribution of Listings per Host (Ranked)')\n",
    "plt.xlabel('Host Rank')\n",
    "plt.ylabel('Number of Listings')\n",
    "plt.show()"
   ]
  },
  {
   "cell_type": "markdown",
   "id": "5e360146e22a366a",
   "metadata": {
    "collapsed": false,
    "jupyter": {
     "outputs_hidden": false
    }
   },
   "source": [
    "### And finally, we will draw another graph, this time with the $x$ axis in *logarithmic* scale."
   ]
  },
  {
   "cell_type": "code",
   "execution_count": 37,
   "id": "a170a511b0e70b84",
   "metadata": {
    "ExecuteTime": {
     "end_time": "2023-10-30T11:31:15.717108700Z",
     "start_time": "2023-10-30T11:31:15.423857200Z"
    },
    "collapsed": false,
    "jupyter": {
     "outputs_hidden": false
    }
   },
   "outputs": [
    {
     "data": {
      "image/png": "[encoded data removed]",
      "text/plain": [
       "<Figure size 1000x600 with 1 Axes>"
      ]
     },
     "metadata": {},
     "output_type": "display_data"
    }
   ],
   "source": [
    "# Create the graph with x-axis in logarithmic scale\n",
    "plt.figure(figsize=(10, 6))\n",
    "# We again do a line plot as it makes the distribution more readable\n",
    "sns.lineplot(x=range(1, len(listings_per_host) + 1), y='host_listings_count', data=listings_per_host)\n",
    "# Set the x-axis to logarithmic scale\n",
    "plt.xscale('log')\n",
    "plt.title('Distribution of Listings per Host (Ranked, Logarithmic Scale on X-axis)')\n",
    "plt.xlabel('Host Rank')\n",
    "plt.ylabel('Number of Listings')\n",
    "plt.show()"
   ]
  },
  {
   "cell_type": "markdown",
   "id": "d11c92fe290a7cb0",
   "metadata": {
    "collapsed": false,
    "jupyter": {
     "outputs_hidden": false
    }
   },
   "source": [
    "The logarithmic scale on the $x$ axis makes the distribution more readable and shows the distribution more clearly.\n",
    "The original graph is  included for comparison, and as we can see that the distribution is not clear at all."
   ]
  },
  {
   "cell_type": "markdown",
   "id": "5a11a9030577ac7c",
   "metadata": {
    "collapsed": false,
    "jupyter": {
     "outputs_hidden": false
    }
   },
   "source": [
    "We can see that the distribution is highly skewed, with a few hosts having a large number of listings and most hosts having a small number of listings,\n",
    "showing that most hosts have only a small number of listings."
   ]
  },
  {
   "cell_type": "markdown",
   "id": "5b238b22fab8f7e4",
   "metadata": {
    "collapsed": false,
    "jupyter": {
     "outputs_hidden": false
    }
   },
   "source": [
    "## (8) Visualize Listings\n",
    "\n",
    "We will draw an interactive map to show the listings overlayed on Athens.\n",
    "\n",
    "We will use the [folium](https://github.com/python-visualization/folium) library to create our map\n",
    "\n",
    "The map should show each listing and on clicking on top of it, the user should see a short description of the listing.\n",
    "\n",
    "Note that such a map is heavy on resources. We will probably *not* be able to include it in a Jupyter notebook, so we will save it to an external HTML file that can be opened by any browser. Also, to make things easier, we will limit the maximum zoom level from 12 to 15\n",
    "\n"
   ]
  },
  {
   "cell_type": "markdown",
   "id": "c0d479bbd821c97c",
   "metadata": {
    "collapsed": false,
    "jupyter": {
     "outputs_hidden": false
    }
   },
   "source": [
    "### We will use the `neighbourhoods.geojson` file to get the boundaries of the neighbourhoods in Athens.\n",
    "\n",
    "This file contains the boundaries of the neighbourhoods in Athens in GeoJSON format."
   ]
  },
  {
   "cell_type": "markdown",
   "id": "989ca08d41760a4",
   "metadata": {
    "collapsed": false,
    "jupyter": {
     "outputs_hidden": false
    }
   },
   "source": [
    "We will create a map centered on Athens, with a zoom level of 12. \n",
    "We will also set the minimum and maximum latitude and longitude values to the bounds of the GeoJSON layer, \n",
    "so that the map is centered on Athens and the user cannot move the map outside of Athens. \n",
    "We will also set the maximum zoom level to 15 and the `maxBoundsViscosity` to 1.0, so that the map bounces back when zooming out.\n",
    "\n",
    "**Note** : We create the map this way for performance reasons. \n",
    "For example, if we don't set the `maxBoundsViscosity` to 1.0, the map will be very slow when zooming out,"
   ]
  },
  {
   "cell_type": "code",
   "execution_count": 38,
   "id": "2d11a73d2b68f73b",
   "metadata": {
    "ExecuteTime": {
     "end_time": "2023-10-30T11:31:15.725118800Z",
     "start_time": "2023-10-30T11:31:15.718109100Z"
    },
    "collapsed": false,
    "jupyter": {
     "outputs_hidden": false
    }
   },
   "outputs": [],
   "source": [
    "# Create a map centered on Athens\n",
    "\n",
    "# Get the bounds of the GeoJSON layer\n",
    "bounds = neighbourhoods_gdf.geometry.bounds\n",
    "\n",
    "# Get the minimum and maximum latitude and longitude values\n",
    "min_lat = bounds.miny.min()\n",
    "max_lat = bounds.maxy.max()\n",
    "min_lon = bounds.minx.min()\n",
    "max_lon = bounds.maxx.max()\n",
    "\n",
    "# Create the map\n",
    "athens_map = folium.Map(location=[37.983810, 23.727539],  # Athens coordinates\n",
    "                        zoom_start=12,\n",
    "                        min_zoom=12,\n",
    "                        max_zoom=15,\n",
    "                        min_lat=min_lat,\n",
    "                        max_lat=max_lat,\n",
    "                        min_lon=min_lon,\n",
    "                        max_lon=max_lon,\n",
    "                        max_bounds=True,\n",
    "                        maxBoundsViscosity=1.0  # Makes the map bounce back when zooming out\n",
    "                        )"
   ]
  },
  {
   "cell_type": "markdown",
   "id": "53f8be2b7b411e13",
   "metadata": {
    "collapsed": false,
    "jupyter": {
     "outputs_hidden": false
    }
   },
   "source": [
    "After we have created the map, we will add the GeoJSON layer with the neighbourhoods.\n",
    "More specifically, we will calculate the convex hull of the area of Athens and add it as a new GeoJSON layer."
   ]
  },
  {
   "cell_type": "code",
   "execution_count": 39,
   "id": "fdfd1a8c97358d23",
   "metadata": {
    "ExecuteTime": {
     "end_time": "2023-10-30T11:31:15.741926900Z",
     "start_time": "2023-10-30T11:31:15.727118700Z"
    },
    "collapsed": false,
    "jupyter": {
     "outputs_hidden": false
    }
   },
   "outputs": [
    {
     "data": {
      "text/plain": [
       "<folium.features.GeoJson at 0x1d227465ed0>"
      ]
     },
     "execution_count": 39,
     "metadata": {},
     "output_type": "execute_result"
    }
   ],
   "source": [
    "# Calculate the convex hull\n",
    "convex_hull = neighbourhoods_gdf.unary_union.convex_hull\n",
    "\n",
    "# Create a new GeoDataFrame with the convex hull and set its CRS to EPSG:4326 just to be sure\n",
    "convex_hull_gdf = gpd.GeoDataFrame({'geometry': [convex_hull]}, crs=\"EPSG:4326\")\n",
    "\n",
    "# Add the convex hull as a new GeoJSON layer\n",
    "folium.GeoJson(convex_hull_gdf,\n",
    "               style_function=lambda x: {'color': 'green', 'fillColor': 'green', 'fillOpacity': 0.2}).add_to(athens_map)"
   ]
  },
  {
   "cell_type": "markdown",
   "id": "153527c00289b53",
   "metadata": {
    "collapsed": false,
    "jupyter": {
     "outputs_hidden": false
    }
   },
   "source": [
    "Once we have added the GeoJSON layer, we will prepare the data for the markers.\n",
    "\n",
    "First, we will sort the data by `id` so that the markers are added in the correct order.\n",
    "Second, we will convert the `name`, `host` and `neighbourhood_cleansed` columns to strings so that they can be displayed in the popup without any problems.\n",
    "\n",
    "An extra feature of this map will be to show the price of each listing for today's date (each time the map is created) in the popup.\n",
    "\n",
    "We will filter the `calendar` dataframe for today's date and rename the `price` column to `today_price` to avoid confusion.\n",
    "Then, we will merge the `calendar` dataframe with the `listings` dataframe on the `id`/`listing_id` fields.\n",
    "Finally, we will add a `$` sign in front of the price."
   ]
  },
  {
   "cell_type": "code",
   "execution_count": 40,
   "id": "ba01844bcc499f1",
   "metadata": {
    "ExecuteTime": {
     "end_time": "2023-10-30T11:31:15.808927100Z",
     "start_time": "2023-10-30T11:31:15.742925600Z"
    },
    "collapsed": false,
    "jupyter": {
     "outputs_hidden": false
    }
   },
   "outputs": [],
   "source": [
    "# Make sure the data is sorted by 'id' so that the markers are added in the correct order\n",
    "listings = listings.sort_values(by='id')\n",
    "\n",
    "# Convert the 'name', 'host' and 'neighbourhood_cleansed' columns to strings so that they can be displayed in the popup without any problems\n",
    "listings['name'] = listings['name'].astype(str)\n",
    "listings['host_name'] = listings['host_name'].astype(str)\n",
    "listings['neighbourhood_cleansed'] = listings['neighbourhood_cleansed'].astype(str)\n",
    "\n",
    "# Get the current date\n",
    "today_date = datetime.now().strftime('%Y-%m-%d')\n",
    "\n",
    "# Filter the calendar DataFrame for today's date\n",
    "calendar_today = calendar[calendar['date'] == today_date][['listing_id', 'available', 'price']]\n",
    "# Rename the price column to 'today_price' to avoid confusion\n",
    "calendar_today = calendar_today.rename(columns={'price': 'today_price'})\n",
    "\n",
    "# Merge calendar_today with the listings DataFrame on the 'id'/'listing_id' fields\n",
    "listings = pd.merge(listings, calendar_today, left_on='id', right_on='listing_id', how='left')\n",
    "\n",
    "# Add a '$' sign in front of the price\n",
    "listings['today_price'] = '$' + listings['today_price'].astype(str)"
   ]
  },
  {
   "cell_type": "markdown",
   "id": "6401f01a8edddee",
   "metadata": {
    "collapsed": false,
    "jupyter": {
     "outputs_hidden": false
    }
   },
   "source": [
    "Then, we will add a marker for each listing. The marker will contain the `name`, `host name`, `neighbourhood` and `today's price` of the listing in the popup.\n",
    "\n",
    "As an extra feature, we will also color the markers based on availability. If the listing is available, the marker will be green, otherwise it will be red.\n",
    "The color of the marker will be determined by the `available` column of the `calendar` dataframe for today's date each time the map is created.\n",
    "Lastly, the price of the listing that will be displayed in the popup will be the price of the listing for today's date, which will be determined by the `price` column of the `calendar` dataframe for today's date each time the map is created."
   ]
  },
  {
   "cell_type": "code",
   "execution_count": 41,
   "id": "9fe8e9bc74d4806",
   "metadata": {
    "ExecuteTime": {
     "end_time": "2023-10-30T11:31:22.107564500Z",
     "start_time": "2023-10-30T11:31:15.761925500Z"
    },
    "collapsed": false,
    "jupyter": {
     "outputs_hidden": false
    }
   },
   "outputs": [],
   "source": [
    "# Add a marker for each listing through iteration\n",
    "for index, row in listings.iterrows():\n",
    "    # Create the popup for the marker\n",
    "\n",
    "    # We add the name, host name, neighbourhood and today's price of the listing in the popup with html tags\n",
    "    html = ('<b>Name:</b> ' + row['name'] + '<br>' + '<b>Host Name:</b> '\n",
    "            + row['host_name'] + '<br>' + '<b>Neighbourhood:</b> '\n",
    "            + row['neighbourhood_cleansed'] + '<br>' + '<b>Price:</b> ' + row['today_price'])\n",
    "\n",
    "    popup = folium.Popup(html=html, max_width=300, min_width=300)\n",
    "\n",
    "    # Determine the color based on availability\n",
    "    marker_color = 'green' if row['available'] == 't' else 'red'\n",
    "\n",
    "    # Create the marker\n",
    "    marker = folium.CircleMarker((row['latitude'], row['longitude']), popup=popup,\n",
    "                                 radius=3,  # Control the size of the circle\n",
    "                                 fill=True,  # Fill the circle\n",
    "                                 color=marker_color,  # Color of the circle\n",
    "                                 fill_opacity=0.6)\n",
    "    # Add the marker to the map\n",
    "    marker.add_to(athens_map)\n",
    "\n",
    "# Get the bounds of the GeoJSON layer and fit the map to those bounds\n",
    "athens_map.fit_bounds([[bounds.miny.min(), bounds.minx.min()], [bounds.maxy.max(), bounds.maxx.max()]])\n",
    "\n",
    "# Save the map to an external HTML file\n",
    "athens_map.save('athens_map.html')"
   ]
  },
  {
   "cell_type": "markdown",
   "id": "6404fe754a815e14",
   "metadata": {
    "collapsed": false,
    "jupyter": {
     "outputs_hidden": false
    }
   },
   "source": [
    "### We can see the map in the `athens_map.html` file.\n",
    "\n",
    "---"
   ]
  }
 ],
 "metadata": {
  "kernelspec": {
   "display_name": "Python 3 (ipykernel)",
   "language": "python",
   "name": "python3"
  },
  "language_info": {
   "codemirror_mode": {
    "name": "ipython",
    "version": 3
   },
   "file_extension": ".py",
   "mimetype": "text/x-python",
   "name": "python",
   "nbconvert_exporter": "python",
   "pygments_lexer": "ipython3",
   "version": "3.11.5"
  }
 },
 "nbformat": 4,
 "nbformat_minor": 5
}
